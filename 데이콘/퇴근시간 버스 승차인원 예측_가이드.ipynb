{
  "nbformat": 4,
  "nbformat_minor": 0,
  "metadata": {
    "colab": {
      "name": "데이콘_스터디_3장_가이드.ipynb",
      "provenance": [],
      "collapsed_sections": [],
      "include_colab_link": true
    },
    "kernelspec": {
      "name": "python3",
      "display_name": "Python 3"
    },
    "language_info": {
      "name": "python"
    },
    "accelerator": "GPU"
  },
  "cells": [
    {
      "cell_type": "markdown",
      "metadata": {
        "id": "view-in-github",
        "colab_type": "text"
      },
      "source": [
        "<a href=\"https://colab.research.google.com/github/yunjeong-chang/My_Data_project/blob/main/%EB%8D%B0%EC%9D%B4%EC%BD%98/%ED%87%B4%EA%B7%BC%EC%8B%9C%EA%B0%84%20%EB%B2%84%EC%8A%A4%20%EC%8A%B9%EC%B0%A8%EC%9D%B8%EC%9B%90%20%EC%98%88%EC%B8%A1_%EA%B0%80%EC%9D%B4%EB%93%9C.ipynb\" target=\"_parent\"><img src=\"https://colab.research.google.com/assets/colab-badge.svg\" alt=\"Open In Colab\"/></a>"
      ]
    },
    {
      "cell_type": "markdown",
      "metadata": {
        "id": "7rbcwuTly1_o"
      },
      "source": [
        "# **03장. 퇴근시간 버스 승차인원 예측**"
      ]
    },
    {
      "cell_type": "markdown",
      "metadata": {
        "id": "ybef9SVmyzOY"
      },
      "source": [
        "## **3.1 문제 정의**"
      ]
    },
    {
      "cell_type": "markdown",
      "metadata": {
        "id": "gTNNrAXYzY1i"
      },
      "source": [
        "### **3.1.1 경진대회 소개**"
      ]
    },
    {
      "cell_type": "markdown",
      "metadata": {
        "id": "XxNQ004g0otT"
      },
      "source": [
        "- **목적** : 제주도의 교통체증 문제 해결       \n",
        "- **해결 방법** : 효율적인 버스 운행으로 교통체증을 해결하기 위해, 퇴근시간 버스 승차인원 예측\n",
        "\n"
      ]
    },
    {
      "cell_type": "markdown",
      "metadata": {
        "id": "KqoRd7XKzhuI"
      },
      "source": [
        "### **3.1.2 평가척도**"
      ]
    },
    {
      "cell_type": "markdown",
      "metadata": {
        "id": "w6ossdLa1Yk1"
      },
      "source": [
        "- 지도학습 중 **회귀(Regression)**문제\n",
        "\n",
        "- 회귀 문제의 평가 척도 : **RMSE(Root Mean Square Error, 제곱근평균제곱오차)**"
      ]
    },
    {
      "cell_type": "markdown",
      "metadata": {
        "id": "JzC2APpVzlAy"
      },
      "source": [
        "### **3.1.3 문제 해결을 위한 접근 방식**"
      ]
    },
    {
      "cell_type": "markdown",
      "metadata": {
        "id": "Np9msciR2CU3"
      },
      "source": [
        "**<주의할 점>**\n",
        "\n",
        "1. 오전 시간(6:00 ~ 12:00) 데이터로 퇴근 시간(16:00 ~ 20:00)의 버스 승차 인원을 예측해야 함.\n",
        "2. 9월 1일 ~ 9월 30일 한 달간의 데이터로 10월 1일 ~ 10월 15일의 퇴근 시간 버스 승차 인원을 예측해야 함."
      ]
    },
    {
      "cell_type": "markdown",
      "metadata": {
        "id": "ZHfkYpGJfXV1"
      },
      "source": [
        "**<권장 사항>**\n",
        "\n",
        "**: 책에 있는 내용 부터 공부하시면 양도 많고, 귀찮게 하는 것들이 많아서 어렵게 느끼실 수 있을 것 같습니다.** \n",
        "\n",
        "  **베이스라인 코드를 먼저 보시고 큰 흐름에서 무엇을 하는 문제인지 익숙해 진 후에, 1등 코드에 대한 공부를 이어 나가는 것을 추천 드립니다.**\n",
        "\n",
        "- [베이스라인 초급 코드](https://dacon.io/competitions/official/229255/codeshare/709?page=1&dtype=recent)\n",
        "\n",
        "- [베이스라인 중급 코드](https://dacon.io/competitions/official/229255/codeshare/710?page=1&dtype=recent)"
      ]
    },
    {
      "cell_type": "markdown",
      "metadata": {
        "id": "8kp3FkeIzqLF"
      },
      "source": [
        "### **3.1.4 분석환경 구축**"
      ]
    },
    {
      "cell_type": "markdown",
      "metadata": {
        "id": "qLrtal7V2139"
      },
      "source": [
        "※ 데이터 불러올 때 **드라이브 마운트** 사용 ※\n",
        "\n",
        "1. 데이콘 사이트에서 받을 수 있는 5개의 데이터 : **train.csv**, **test.csv**, **bus_bts.csv**, **submission_sample.csv**, **행정_법정동 중심좌표.xlsx**\n",
        "\n",
        "2. 1등 팀이 사용한 외부 데이터 : [따로 받아야 함](https://github.com/sk8erchoi/dacon/tree/master/ch03) (가이드에서는 내부 데이터만 다루겠습니다! 책 보고 외부 데이터 추가해서도 해보세요😊 )\n",
        "\n"
      ]
    },
    {
      "cell_type": "code",
      "metadata": {
        "id": "x8grhgT346w4"
      },
      "source": [
        "import pandas as pd"
      ],
      "execution_count": null,
      "outputs": []
    },
    {
      "cell_type": "code",
      "metadata": {
        "id": "npl_pzoF3rLZ"
      },
      "source": [
        "train = pd.read_csv('/content/drive/MyDrive/Colab Notebooks/3장-퇴근시간 버스 승차인원 예측/train.csv')\n",
        "test = pd.read_csv('/content/drive/MyDrive/Colab Notebooks/3장-퇴근시간 버스 승차인원 예측/test.csv')\n",
        "submit = pd.read_csv('/content/drive/MyDrive/Colab Notebooks/3장-퇴근시간 버스 승차인원 예측/submission_sample.csv')\n",
        "\n",
        "bts = pd.read_csv('/content/drive/MyDrive/Colab Notebooks/3장-퇴근시간 버스 승차인원 예측/bus_bts.csv')"
      ],
      "execution_count": null,
      "outputs": []
    },
    {
      "cell_type": "markdown",
      "metadata": {
        "id": "XoraeSRczuCc"
      },
      "source": [
        "## **3.2 탐색적 데이터 분석**"
      ]
    },
    {
      "cell_type": "markdown",
      "metadata": {
        "id": "o9DuY-6S0BD5"
      },
      "source": [
        "### **3.2.1 데이터 설명**"
      ]
    },
    {
      "cell_type": "code",
      "metadata": {
        "colab": {
          "base_uri": "https://localhost:8080/",
          "height": 206
        },
        "id": "KIIMo-ls5sDq",
        "outputId": "88735942-9100-4052-db18-81c7caf69f29"
      },
      "source": [
        "train.head(3)\n",
        "# id\n",
        "# date : 날짜\n",
        "# bus_route_id : 버스 노선 id\n",
        "# in_out : 시내/시외 버스 구분\n",
        "# station_code : 해당 승하차 정류소의 id\n",
        "# station_name : 해당 승하차 정류소의 이름\n",
        "# latitude : 해당 버스 정류장의 위도\n",
        "# longitude : 해당 버스 정류장의 경도\n",
        "# [x]~[y]_ride : 해당 시간대별 승차 인원수\n",
        "# [x]~[y]_takeoff : 해당 시간대별 하차 인원수"
      ],
      "execution_count": null,
      "outputs": [
        {
          "output_type": "execute_result",
          "data": {
            "text/html": [
              "<div>\n",
              "<style scoped>\n",
              "    .dataframe tbody tr th:only-of-type {\n",
              "        vertical-align: middle;\n",
              "    }\n",
              "\n",
              "    .dataframe tbody tr th {\n",
              "        vertical-align: top;\n",
              "    }\n",
              "\n",
              "    .dataframe thead th {\n",
              "        text-align: right;\n",
              "    }\n",
              "</style>\n",
              "<table border=\"1\" class=\"dataframe\">\n",
              "  <thead>\n",
              "    <tr style=\"text-align: right;\">\n",
              "      <th></th>\n",
              "      <th>id</th>\n",
              "      <th>date</th>\n",
              "      <th>bus_route_id</th>\n",
              "      <th>in_out</th>\n",
              "      <th>station_code</th>\n",
              "      <th>station_name</th>\n",
              "      <th>latitude</th>\n",
              "      <th>longitude</th>\n",
              "      <th>6~7_ride</th>\n",
              "      <th>7~8_ride</th>\n",
              "      <th>8~9_ride</th>\n",
              "      <th>9~10_ride</th>\n",
              "      <th>10~11_ride</th>\n",
              "      <th>11~12_ride</th>\n",
              "      <th>6~7_takeoff</th>\n",
              "      <th>7~8_takeoff</th>\n",
              "      <th>8~9_takeoff</th>\n",
              "      <th>9~10_takeoff</th>\n",
              "      <th>10~11_takeoff</th>\n",
              "      <th>11~12_takeoff</th>\n",
              "      <th>18~20_ride</th>\n",
              "    </tr>\n",
              "  </thead>\n",
              "  <tbody>\n",
              "    <tr>\n",
              "      <th>0</th>\n",
              "      <td>0</td>\n",
              "      <td>2019-09-01</td>\n",
              "      <td>4270000</td>\n",
              "      <td>시외</td>\n",
              "      <td>344</td>\n",
              "      <td>제주썬호텔</td>\n",
              "      <td>33.48990</td>\n",
              "      <td>126.49373</td>\n",
              "      <td>0.0</td>\n",
              "      <td>1.0</td>\n",
              "      <td>2.0</td>\n",
              "      <td>5.0</td>\n",
              "      <td>2.0</td>\n",
              "      <td>6.0</td>\n",
              "      <td>0.0</td>\n",
              "      <td>0.0</td>\n",
              "      <td>0.0</td>\n",
              "      <td>0.0</td>\n",
              "      <td>0.0</td>\n",
              "      <td>0.0</td>\n",
              "      <td>0.0</td>\n",
              "    </tr>\n",
              "    <tr>\n",
              "      <th>1</th>\n",
              "      <td>1</td>\n",
              "      <td>2019-09-01</td>\n",
              "      <td>4270000</td>\n",
              "      <td>시외</td>\n",
              "      <td>357</td>\n",
              "      <td>한라병원</td>\n",
              "      <td>33.48944</td>\n",
              "      <td>126.48508</td>\n",
              "      <td>1.0</td>\n",
              "      <td>4.0</td>\n",
              "      <td>4.0</td>\n",
              "      <td>2.0</td>\n",
              "      <td>5.0</td>\n",
              "      <td>6.0</td>\n",
              "      <td>0.0</td>\n",
              "      <td>0.0</td>\n",
              "      <td>0.0</td>\n",
              "      <td>0.0</td>\n",
              "      <td>0.0</td>\n",
              "      <td>0.0</td>\n",
              "      <td>5.0</td>\n",
              "    </tr>\n",
              "    <tr>\n",
              "      <th>2</th>\n",
              "      <td>2</td>\n",
              "      <td>2019-09-01</td>\n",
              "      <td>4270000</td>\n",
              "      <td>시외</td>\n",
              "      <td>432</td>\n",
              "      <td>정존마을</td>\n",
              "      <td>33.48181</td>\n",
              "      <td>126.47352</td>\n",
              "      <td>1.0</td>\n",
              "      <td>1.0</td>\n",
              "      <td>0.0</td>\n",
              "      <td>2.0</td>\n",
              "      <td>0.0</td>\n",
              "      <td>0.0</td>\n",
              "      <td>0.0</td>\n",
              "      <td>0.0</td>\n",
              "      <td>0.0</td>\n",
              "      <td>0.0</td>\n",
              "      <td>0.0</td>\n",
              "      <td>0.0</td>\n",
              "      <td>2.0</td>\n",
              "    </tr>\n",
              "  </tbody>\n",
              "</table>\n",
              "</div>"
            ],
            "text/plain": [
              "   id        date  bus_route_id  ... 10~11_takeoff  11~12_takeoff 18~20_ride\n",
              "0   0  2019-09-01       4270000  ...           0.0            0.0        0.0\n",
              "1   1  2019-09-01       4270000  ...           0.0            0.0        5.0\n",
              "2   2  2019-09-01       4270000  ...           0.0            0.0        2.0\n",
              "\n",
              "[3 rows x 21 columns]"
            ]
          },
          "metadata": {
            "tags": []
          },
          "execution_count": 129
        }
      ]
    },
    {
      "cell_type": "code",
      "metadata": {
        "colab": {
          "base_uri": "https://localhost:8080/"
        },
        "id": "34xwAf2F5uLD",
        "outputId": "ed61b80f-c574-4f68-cf80-4958d601fc95"
      },
      "source": [
        "train.info() #총 415,423개의 행"
      ],
      "execution_count": null,
      "outputs": [
        {
          "output_type": "stream",
          "text": [
            "<class 'pandas.core.frame.DataFrame'>\n",
            "RangeIndex: 415423 entries, 0 to 415422\n",
            "Data columns (total 21 columns):\n",
            " #   Column         Non-Null Count   Dtype  \n",
            "---  ------         --------------   -----  \n",
            " 0   id             415423 non-null  int64  \n",
            " 1   date           415423 non-null  object \n",
            " 2   bus_route_id   415423 non-null  int64  \n",
            " 3   in_out         415423 non-null  object \n",
            " 4   station_code   415423 non-null  int64  \n",
            " 5   station_name   415423 non-null  object \n",
            " 6   latitude       415423 non-null  float64\n",
            " 7   longitude      415423 non-null  float64\n",
            " 8   6~7_ride       415423 non-null  float64\n",
            " 9   7~8_ride       415423 non-null  float64\n",
            " 10  8~9_ride       415423 non-null  float64\n",
            " 11  9~10_ride      415423 non-null  float64\n",
            " 12  10~11_ride     415423 non-null  float64\n",
            " 13  11~12_ride     415423 non-null  float64\n",
            " 14  6~7_takeoff    415423 non-null  float64\n",
            " 15  7~8_takeoff    415423 non-null  float64\n",
            " 16  8~9_takeoff    415423 non-null  float64\n",
            " 17  9~10_takeoff   415423 non-null  float64\n",
            " 18  10~11_takeoff  415423 non-null  float64\n",
            " 19  11~12_takeoff  415423 non-null  float64\n",
            " 20  18~20_ride     415423 non-null  float64\n",
            "dtypes: float64(15), int64(3), object(3)\n",
            "memory usage: 66.6+ MB\n"
          ],
          "name": "stdout"
        }
      ]
    },
    {
      "cell_type": "code",
      "metadata": {
        "colab": {
          "base_uri": "https://localhost:8080/",
          "height": 173
        },
        "id": "Y2FeHoDx6yvd",
        "outputId": "5b7cf147-6e71-4876-ab8a-110b0069da90"
      },
      "source": [
        "# 버스 카드별 승하차 정보\n",
        "bts.head(3)\n",
        "\n",
        "# user_card_id : 해당 승객의 버스 카드 id\n",
        "# bus_route_id : 버스 노선 id\n",
        "# vhc_id : 버스 차량 id\n",
        "\n",
        "# geton_date : 해당 승객이 탑승한 날짜\n",
        "# geton_time : 해당 승객이 탑승한 시간\n",
        "# geton_station_code : 승차 정류소의 id\n",
        "# geton_station_name : 승차 정류소의 이름\n",
        "\n",
        "# getoff_date : 해당 승객이 하차한 날짜\n",
        "# getoff_time : 해당 승객이 하차한 시간\n",
        "# getoff_station_code : 하차 정류소의 id\n",
        "# getoff_station_name : 하차 정류소의 이름\n",
        "\n",
        "# user_category : 승객 구분\n",
        "# user_count : 해당 버스 카드로 계산한 인원수"
      ],
      "execution_count": null,
      "outputs": [
        {
          "output_type": "execute_result",
          "data": {
            "text/html": [
              "<div>\n",
              "<style scoped>\n",
              "    .dataframe tbody tr th:only-of-type {\n",
              "        vertical-align: middle;\n",
              "    }\n",
              "\n",
              "    .dataframe tbody tr th {\n",
              "        vertical-align: top;\n",
              "    }\n",
              "\n",
              "    .dataframe thead th {\n",
              "        text-align: right;\n",
              "    }\n",
              "</style>\n",
              "<table border=\"1\" class=\"dataframe\">\n",
              "  <thead>\n",
              "    <tr style=\"text-align: right;\">\n",
              "      <th></th>\n",
              "      <th>user_card_id</th>\n",
              "      <th>bus_route_id</th>\n",
              "      <th>vhc_id</th>\n",
              "      <th>geton_date</th>\n",
              "      <th>geton_time</th>\n",
              "      <th>geton_station_code</th>\n",
              "      <th>geton_station_name</th>\n",
              "      <th>getoff_date</th>\n",
              "      <th>getoff_time</th>\n",
              "      <th>getoff_station_code</th>\n",
              "      <th>getoff_station_name</th>\n",
              "      <th>user_category</th>\n",
              "      <th>user_count</th>\n",
              "    </tr>\n",
              "  </thead>\n",
              "  <tbody>\n",
              "    <tr>\n",
              "      <th>0</th>\n",
              "      <td>1.010010e+15</td>\n",
              "      <td>23000000</td>\n",
              "      <td>149793674</td>\n",
              "      <td>2019-09-10</td>\n",
              "      <td>06:34:45</td>\n",
              "      <td>360</td>\n",
              "      <td>노형오거리</td>\n",
              "      <td>2019-09-10</td>\n",
              "      <td>07:10:31</td>\n",
              "      <td>592.0</td>\n",
              "      <td>화북초등학교</td>\n",
              "      <td>1</td>\n",
              "      <td>1</td>\n",
              "    </tr>\n",
              "    <tr>\n",
              "      <th>1</th>\n",
              "      <td>1.010010e+15</td>\n",
              "      <td>23000000</td>\n",
              "      <td>149793674</td>\n",
              "      <td>2019-09-10</td>\n",
              "      <td>06:34:58</td>\n",
              "      <td>360</td>\n",
              "      <td>노형오거리</td>\n",
              "      <td>2019-09-10</td>\n",
              "      <td>06:56:27</td>\n",
              "      <td>3273.0</td>\n",
              "      <td>고산동산(광양방면)</td>\n",
              "      <td>1</td>\n",
              "      <td>1</td>\n",
              "    </tr>\n",
              "    <tr>\n",
              "      <th>2</th>\n",
              "      <td>1.019160e+15</td>\n",
              "      <td>21420000</td>\n",
              "      <td>149793535</td>\n",
              "      <td>2019-09-10</td>\n",
              "      <td>07:19:07</td>\n",
              "      <td>2495</td>\n",
              "      <td>동광환승정류장4(제주방면)</td>\n",
              "      <td>2019-09-10</td>\n",
              "      <td>07:40:29</td>\n",
              "      <td>431.0</td>\n",
              "      <td>정존마을</td>\n",
              "      <td>4</td>\n",
              "      <td>1</td>\n",
              "    </tr>\n",
              "  </tbody>\n",
              "</table>\n",
              "</div>"
            ],
            "text/plain": [
              "   user_card_id  bus_route_id  ...  user_category user_count\n",
              "0  1.010010e+15      23000000  ...              1          1\n",
              "1  1.010010e+15      23000000  ...              1          1\n",
              "2  1.019160e+15      21420000  ...              4          1\n",
              "\n",
              "[3 rows x 13 columns]"
            ]
          },
          "metadata": {
            "tags": []
          },
          "execution_count": 131
        }
      ]
    },
    {
      "cell_type": "code",
      "metadata": {
        "id": "F_kOx17w7qHc"
      },
      "source": [
        "#bts.info(null_counts=True) # getoff에 관한 결측치 : 승객이 하차 태그를 하지 않으면 발생"
      ],
      "execution_count": null,
      "outputs": []
    },
    {
      "cell_type": "markdown",
      "metadata": {
        "id": "dz1sRLEq0DvX"
      },
      "source": [
        "### **3.2.2 데이터 시각화**"
      ]
    },
    {
      "cell_type": "code",
      "metadata": {
        "id": "blRWtFcvAYFc"
      },
      "source": [
        "import matplotlib\n",
        "import matplotlib.pyplot as plt\n",
        "import seaborn as sns\n",
        "\n",
        "# 내부에 결과를 출력하도록 설정\n",
        "%matplotlib inline\n",
        "\n",
        "# 마이너스 기호 출력\n",
        "plt.rc('axes', unicode_minus=False) \n",
        "\n",
        "# 분석에 문제가 없는 경고 메세지는 숨긴다.\n",
        "import warnings\n",
        "warnings.filterwarnings('ignore')"
      ],
      "execution_count": null,
      "outputs": []
    },
    {
      "cell_type": "code",
      "metadata": {
        "id": "CExjqOK7Akio"
      },
      "source": [
        "# 학습 데이터의 훼손을 막기 위한 복사본 생성\n",
        "traindata = train.copy()"
      ],
      "execution_count": null,
      "outputs": []
    },
    {
      "cell_type": "code",
      "metadata": {
        "colab": {
          "base_uri": "https://localhost:8080/",
          "height": 284
        },
        "id": "se_l0_qXAw32",
        "outputId": "bee6d366-4133-49f0-8ccf-50d908319758"
      },
      "source": [
        "# 타겟 변수(퇴근 시간 승차 인원) 분포 시각화\n",
        "sns.distplot(traindata['18~20_ride'], kde = False, bins = 50)\n",
        "plt.axis([0, 50, 0, 450000]) # [x 축 최솟값, x 축 최댓값, y 축 최솟값, y 축 최댓값]\n",
        "plt.show() \n",
        "# 퇴근 시간 승차 인원이 0~5명 구간에 대부분 존재"
      ],
      "execution_count": null,
      "outputs": [
        {
          "output_type": "display_data",
          "data": {
            "image/png": "[encoded data removed]",
            "text/plain": [
              "<Figure size 432x288 with 1 Axes>"
            ]
          },
          "metadata": {
            "tags": [],
            "needs_background": "light"
          }
        }
      ]
    },
    {
      "cell_type": "code",
      "metadata": {
        "colab": {
          "base_uri": "https://localhost:8080/"
        },
        "id": "e6JLeTD8BYyi",
        "outputId": "4fba6f73-1af5-40de-d9ea-de50866acf0a"
      },
      "source": [
        "# 0~5 사이에 값이 얼마나 분포되어있는지 확인\n",
        "traindata.groupby('18~20_ride').size().head(6) \n",
        "# 학습 데이터 타겟 변수의 값 절반 이상이 0이다!!"
      ],
      "execution_count": null,
      "outputs": [
        {
          "output_type": "execute_result",
          "data": {
            "text/plain": [
              "18~20_ride\n",
              "0.0    296528\n",
              "1.0     44268\n",
              "2.0     23752\n",
              "3.0     13560\n",
              "4.0      8630\n",
              "5.0      5911\n",
              "dtype: int64"
            ]
          },
          "metadata": {
            "tags": []
          },
          "execution_count": 136
        }
      ]
    },
    {
      "cell_type": "code",
      "metadata": {
        "colab": {
          "base_uri": "https://localhost:8080/",
          "height": 279
        },
        "id": "v_coGiIZB49K",
        "outputId": "11687504-e6be-4fd1-8d8b-5a44e3cd3946"
      },
      "source": [
        "# 데이터에 날짜와 관련된 변수가 있으면 날짜형으로 바꿔주는 것이 좋다!\n",
        "\n",
        "# 날짜형으로 변환\n",
        "traindata['date'] = pd.to_datetime(traindata['date'])\n",
        "# 요일을 문자형으로 추출해 변수 생성\n",
        "traindata['weekday'] = traindata['date'].dt.strftime('%a')\n",
        "\n",
        "# 요일별 퇴근 시간 평균 탑승객 수 시각화\n",
        "sns.barplot(x=\"weekday\", y=\"18~20_ride\", data=traindata)\n",
        "plt.show()\n",
        "# 월~수 까지 퇴근시간 승차인원 증가하다가, 목요일부터는 감소하는 추세"
      ],
      "execution_count": null,
      "outputs": [
        {
          "output_type": "display_data",
          "data": {
            "image/png": "[encoded data removed]",
            "text/plain": [
              "<Figure size 432x288 with 1 Axes>"
            ]
          },
          "metadata": {
            "tags": [],
            "needs_background": "light"
          }
        }
      ]
    },
    {
      "cell_type": "code",
      "metadata": {
        "colab": {
          "base_uri": "https://localhost:8080/",
          "height": 280
        },
        "id": "E__uO-rxCWXE",
        "outputId": "fa37226e-c728-496b-fc0d-19e29391f84e"
      },
      "source": [
        "# 버스 종류별 퇴근 시간 평균 탑승객 수 시각화\n",
        "sns.barplot(x=\"in_out\", y=\"18~20_ride\", data=traindata)\n",
        "plt.show()"
      ],
      "execution_count": null,
      "outputs": [
        {
          "output_type": "display_data",
          "data": {
            "image/png": "[encoded data removed]",
            "text/plain": [
              "<Figure size 432x288 with 1 Axes>"
            ]
          },
          "metadata": {
            "tags": [],
            "needs_background": "light"
          }
        }
      ]
    },
    {
      "cell_type": "code",
      "metadata": {
        "colab": {
          "base_uri": "https://localhost:8080/",
          "height": 136
        },
        "id": "nMVnP6j4C-2R",
        "outputId": "a66bbd4e-4878-4095-c7f5-67295c72c5ff"
      },
      "source": [
        "# 일별 출퇴근 시간의 총 승차 인원 데이터 생성\n",
        "# 출근시간(8시~10시)과 퇴근시간(18시~20시)에 탑승객 수가 어떤 양상을 띄는지 확인\n",
        "# 출근시간 8~9시와 9~10시 데이터 합치기\n",
        "\n",
        "traindata['8~10_ride'] = traindata['8~9_ride'] + traindata['9~10_ride']\n",
        "eda_data = traindata.groupby('date')[['18~20_ride','8~10_ride']].agg('sum').reset_index()\n",
        "\n",
        "eda_data.head(3)"
      ],
      "execution_count": null,
      "outputs": [
        {
          "output_type": "execute_result",
          "data": {
            "text/html": [
              "<div>\n",
              "<style scoped>\n",
              "    .dataframe tbody tr th:only-of-type {\n",
              "        vertical-align: middle;\n",
              "    }\n",
              "\n",
              "    .dataframe tbody tr th {\n",
              "        vertical-align: top;\n",
              "    }\n",
              "\n",
              "    .dataframe thead th {\n",
              "        text-align: right;\n",
              "    }\n",
              "</style>\n",
              "<table border=\"1\" class=\"dataframe\">\n",
              "  <thead>\n",
              "    <tr style=\"text-align: right;\">\n",
              "      <th></th>\n",
              "      <th>date</th>\n",
              "      <th>18~20_ride</th>\n",
              "      <th>8~10_ride</th>\n",
              "    </tr>\n",
              "  </thead>\n",
              "  <tbody>\n",
              "    <tr>\n",
              "      <th>0</th>\n",
              "      <td>2019-09-01</td>\n",
              "      <td>11537.0</td>\n",
              "      <td>11957.0</td>\n",
              "    </tr>\n",
              "    <tr>\n",
              "      <th>1</th>\n",
              "      <td>2019-09-02</td>\n",
              "      <td>20561.0</td>\n",
              "      <td>21844.0</td>\n",
              "    </tr>\n",
              "    <tr>\n",
              "      <th>2</th>\n",
              "      <td>2019-09-03</td>\n",
              "      <td>19743.0</td>\n",
              "      <td>25756.0</td>\n",
              "    </tr>\n",
              "  </tbody>\n",
              "</table>\n",
              "</div>"
            ],
            "text/plain": [
              "        date  18~20_ride  8~10_ride\n",
              "0 2019-09-01     11537.0    11957.0\n",
              "1 2019-09-02     20561.0    21844.0\n",
              "2 2019-09-03     19743.0    25756.0"
            ]
          },
          "metadata": {
            "tags": []
          },
          "execution_count": 139
        }
      ]
    },
    {
      "cell_type": "code",
      "metadata": {
        "colab": {
          "base_uri": "https://localhost:8080/",
          "height": 271
        },
        "id": "VCcPTk-gDgjl",
        "outputId": "884ed048-47a0-4785-db05-60d6331b408d"
      },
      "source": [
        "# 일별 출퇴근 시간 탑승객 수 시각화\n",
        "plt.plot(\"date\", \"18~20_ride\", \"g-\", label = \"퇴근 시간 탑승객 수\", data=eda_data)\n",
        "plt.plot(\"date\", \"8~10_ride\", \"b-\", label = \"출근 시간 탑승객 수\", data=eda_data)\n",
        "plt.gcf().autofmt_xdate() # x축의 라벨이 서로 겹치지 않도록 설정\n",
        "plt.legend(loc=0) # 그래프 상에서 최적의 위치에 범례 표시\n",
        "\n",
        "plt.show()\n",
        "# 일별로 패턴이 있는 시계열 자료\n",
        "# 출근 시간 탑승객 수 > 퇴근 시간 탑승객 수"
      ],
      "execution_count": null,
      "outputs": [
        {
          "output_type": "display_data",
          "data": {
            "image/png": "[encoded data removed]",
            "text/plain": [
              "<Figure size 432x288 with 1 Axes>"
            ]
          },
          "metadata": {
            "tags": [],
            "needs_background": "light"
          }
        }
      ]
    },
    {
      "cell_type": "markdown",
      "metadata": {
        "id": "FnBDf9BfzyOf"
      },
      "source": [
        "## **3.3 데이터 전처리**"
      ]
    },
    {
      "cell_type": "code",
      "metadata": {
        "id": "5ZHRZQ8BEGQT"
      },
      "source": [
        "# 학습 데이터와 테스트 데이터를 구분하기 위한 변수 생성\n",
        "train['cue'] = 0\n",
        "test['cue'] = 1\n",
        "\n",
        "# 학습 데이터와 테스트 데이터 통합\n",
        "df = pd.concat([train, test], axis=0)"
      ],
      "execution_count": null,
      "outputs": []
    },
    {
      "cell_type": "markdown",
      "metadata": {
        "id": "ILSStbsS0JLT"
      },
      "source": [
        "### **3.3.1 내부 데이터를 통한 변수 생성**"
      ]
    },
    {
      "cell_type": "code",
      "metadata": {
        "colab": {
          "base_uri": "https://localhost:8080/",
          "height": 136
        },
        "id": "kYP7u5bEEQPW",
        "outputId": "b5a81406-d8e2-4e6d-9c20-c12b26c38d11"
      },
      "source": [
        "# 1. 요일을 나타내는 weekday 변수 생성\n",
        "\n",
        "# datetime 변수형으로 변환\n",
        "df['date'] = pd.to_datetime(df['date'])\n",
        "# 요일 추출 (0:월요일 ~ 6:일요일)\n",
        "df['weekday'] = df['date'].dt.weekday\n",
        "\n",
        "df[['weekday']].head(3)"
      ],
      "execution_count": null,
      "outputs": [
        {
          "output_type": "execute_result",
          "data": {
            "text/html": [
              "<div>\n",
              "<style scoped>\n",
              "    .dataframe tbody tr th:only-of-type {\n",
              "        vertical-align: middle;\n",
              "    }\n",
              "\n",
              "    .dataframe tbody tr th {\n",
              "        vertical-align: top;\n",
              "    }\n",
              "\n",
              "    .dataframe thead th {\n",
              "        text-align: right;\n",
              "    }\n",
              "</style>\n",
              "<table border=\"1\" class=\"dataframe\">\n",
              "  <thead>\n",
              "    <tr style=\"text-align: right;\">\n",
              "      <th></th>\n",
              "      <th>weekday</th>\n",
              "    </tr>\n",
              "  </thead>\n",
              "  <tbody>\n",
              "    <tr>\n",
              "      <th>0</th>\n",
              "      <td>6</td>\n",
              "    </tr>\n",
              "    <tr>\n",
              "      <th>1</th>\n",
              "      <td>6</td>\n",
              "    </tr>\n",
              "    <tr>\n",
              "      <th>2</th>\n",
              "      <td>6</td>\n",
              "    </tr>\n",
              "  </tbody>\n",
              "</table>\n",
              "</div>"
            ],
            "text/plain": [
              "   weekday\n",
              "0        6\n",
              "1        6\n",
              "2        6"
            ]
          },
          "metadata": {
            "tags": []
          },
          "execution_count": 142
        }
      ]
    },
    {
      "cell_type": "code",
      "metadata": {
        "colab": {
          "base_uri": "https://localhost:8080/",
          "height": 136
        },
        "id": "1kyLkKMaEfaR",
        "outputId": "5d4d982a-4bb5-45a1-afe5-1b401101eb90"
      },
      "source": [
        "# 2. 요일과 함께 해당 요일의 평균 탑승객 수라는 정보가 더해지면 모델이 요일별 특성을 잘 학습할 수 있을 것!!\n",
        "\n",
        "# 요일별 평균 탑승 승객수를 구하는 함수\n",
        "def week_mean() :\n",
        "    # 전체 데이터에서 train 데이터에 해당하는 행 추출\n",
        "    train_data = df.query('cue==\"0\"').reset_index(drop=True)\n",
        "    \n",
        "    # 일괄적으로 1의 값을 가지는 'weekdaymean'변수 생성\n",
        "    df['weekdaymean'] = 1\n",
        "\n",
        "    # 각 요일에 해당하는 인덱스 추출\n",
        "    index0 = df.query('weekday==0').index\n",
        "    index1 = df.query('weekday==1').index\n",
        "    index2 = df.query('weekday==2').index\n",
        "    index3 = df.query('weekday==3').index\n",
        "    index4 = df.query('weekday==4').index\n",
        "    index5 = df.query('weekday==5').index\n",
        "    index6 = df.query('weekday==6').index\n",
        "\n",
        "    # 인덱스를 활용하여 'weekdaymean'의 값을 각 요일에 맞는 평균 탑승 승객수로 변경 \n",
        "    df.iloc[index0,-1] = train_data.query('weekday==0')['18~20_ride'].mean()\n",
        "    df.iloc[index1,-1] = train_data.query('weekday==1')['18~20_ride'].mean()\n",
        "    df.iloc[index2,-1] = train_data.query('weekday==2')['18~20_ride'].mean()\n",
        "    df.iloc[index3,-1] = train_data.query('weekday==3')['18~20_ride'].mean()\n",
        "    df.iloc[index4,-1] = train_data.query('weekday==4')['18~20_ride'].mean()\n",
        "    df.iloc[index5,-1] = train_data.query('weekday==5')['18~20_ride'].mean()\n",
        "    df.iloc[index6,-1] = train_data.query('weekday==6')['18~20_ride'].mean()\n",
        "    \n",
        "    return df\n",
        "\n",
        "# 함수를 실행하여 변수 생성\n",
        "df = week_mean()\n",
        "\n",
        "df[['weekdaymean']].head(3)"
      ],
      "execution_count": null,
      "outputs": [
        {
          "output_type": "execute_result",
          "data": {
            "text/html": [
              "<div>\n",
              "<style scoped>\n",
              "    .dataframe tbody tr th:only-of-type {\n",
              "        vertical-align: middle;\n",
              "    }\n",
              "\n",
              "    .dataframe tbody tr th {\n",
              "        vertical-align: top;\n",
              "    }\n",
              "\n",
              "    .dataframe thead th {\n",
              "        text-align: right;\n",
              "    }\n",
              "</style>\n",
              "<table border=\"1\" class=\"dataframe\">\n",
              "  <thead>\n",
              "    <tr style=\"text-align: right;\">\n",
              "      <th></th>\n",
              "      <th>weekdaymean</th>\n",
              "    </tr>\n",
              "  </thead>\n",
              "  <tbody>\n",
              "    <tr>\n",
              "      <th>0</th>\n",
              "      <td>1.034282</td>\n",
              "    </tr>\n",
              "    <tr>\n",
              "      <th>1</th>\n",
              "      <td>1.034282</td>\n",
              "    </tr>\n",
              "    <tr>\n",
              "      <th>2</th>\n",
              "      <td>1.034282</td>\n",
              "    </tr>\n",
              "  </tbody>\n",
              "</table>\n",
              "</div>"
            ],
            "text/plain": [
              "   weekdaymean\n",
              "0     1.034282\n",
              "1     1.034282\n",
              "2     1.034282"
            ]
          },
          "metadata": {
            "tags": []
          },
          "execution_count": 143
        }
      ]
    },
    {
      "cell_type": "code",
      "metadata": {
        "colab": {
          "base_uri": "https://localhost:8080/",
          "height": 136
        },
        "id": "ScbyzDMBExHa",
        "outputId": "fb0e4d9a-7c53-4332-d41d-e69822252687"
      },
      "source": [
        "# 3. 시내/시외 버스 종류와 함께 버스 종류별 평균 탑승객 수라는 정보가 더해진다면 버스 종류별 특성을 잘 나타낼 수 있을 것!!\n",
        "\n",
        "# 버스 종류별 평균 탑승 승객수를 구하는 함수\n",
        "def inout_mean() :\n",
        "    # 전체 데이터에서 train 데이터에 해당하는 행 추출\n",
        "    train_data = df.query('cue==\"0\"').reset_index(drop=True)\n",
        "    \n",
        "    # 일괄적으로 1의 값을 가지는 in_out_mean 변수 생성\n",
        "    df['in_out_mean'] = 1\n",
        "\n",
        "    # 버스 종류별 인덱스 추출\n",
        "    in_index = df.query('in_out == \"시내\"').index # 시내버스\n",
        "    out_index = df.query('in_out == \"시외\"').index # 시외버스\n",
        "\n",
        "    # 인덱스를 활용하여 in_out_mean의 값을 각 버스 종류에 맞는 \n",
        "    # 평균 탑승 승객수로 변경\n",
        "    df.iloc[in_index,-1] = train_data.query('in_out == \"시내\"')['18~20_ride'].mean()\n",
        "    df.iloc[out_index,-1] = train_data.query('in_out == \"시외\"')['18~20_ride'].mean()\n",
        "    \n",
        "    return df\n",
        "\n",
        "# 함수를 실행하여 변수 생성\n",
        "df = inout_mean()\n",
        "\n",
        "df[['in_out_mean']].head(3)"
      ],
      "execution_count": null,
      "outputs": [
        {
          "output_type": "execute_result",
          "data": {
            "text/html": [
              "<div>\n",
              "<style scoped>\n",
              "    .dataframe tbody tr th:only-of-type {\n",
              "        vertical-align: middle;\n",
              "    }\n",
              "\n",
              "    .dataframe tbody tr th {\n",
              "        vertical-align: top;\n",
              "    }\n",
              "\n",
              "    .dataframe thead th {\n",
              "        text-align: right;\n",
              "    }\n",
              "</style>\n",
              "<table border=\"1\" class=\"dataframe\">\n",
              "  <thead>\n",
              "    <tr style=\"text-align: right;\">\n",
              "      <th></th>\n",
              "      <th>in_out_mean</th>\n",
              "    </tr>\n",
              "  </thead>\n",
              "  <tbody>\n",
              "    <tr>\n",
              "      <th>0</th>\n",
              "      <td>2.044345</td>\n",
              "    </tr>\n",
              "    <tr>\n",
              "      <th>1</th>\n",
              "      <td>2.044345</td>\n",
              "    </tr>\n",
              "    <tr>\n",
              "      <th>2</th>\n",
              "      <td>2.044345</td>\n",
              "    </tr>\n",
              "  </tbody>\n",
              "</table>\n",
              "</div>"
            ],
            "text/plain": [
              "   in_out_mean\n",
              "0     2.044345\n",
              "1     2.044345\n",
              "2     2.044345"
            ]
          },
          "metadata": {
            "tags": []
          },
          "execution_count": 144
        }
      ]
    },
    {
      "cell_type": "code",
      "metadata": {
        "colab": {
          "base_uri": "https://localhost:8080/",
          "height": 136
        },
        "id": "G_S6D-gTFC0w",
        "outputId": "63f3a3fa-ba3e-4a1f-8356-99fb910f9ebb"
      },
      "source": [
        "# 4. 일별 출근시간 탑승객 수와 퇴근시간 탑승객 수가 비슷한 양상을 띄는 것을 확인했으니 -> 이를 확장해서 일별 오전 시간대의 탑승객 수를 이용하자!!\n",
        "\n",
        "# 날짜별 오전시간에 탑승한 총 승객수\n",
        "f=df.groupby('date')['6~7_ride','7~8_ride','8~9_ride','9~10_ride','10~11_ride'].sum().reset_index()\n",
        "\n",
        "# 변수명 바꾸기\n",
        "f.columns=['date','6~7_ride_sum','7~8_ride_sum','8~9_ride_sum','9~10_ride_sum','10~11_ride_sum']\n",
        "\n",
        "# 기존의 데이터프레임에 새로운 변수를 병합\n",
        "df = pd.merge(df, f, how='left', on='date')\n",
        "\n",
        "df[['date','6~7_ride_sum','7~8_ride_sum','8~9_ride_sum','9~10_ride_sum', '10~11_ride_sum']].head(3)"
      ],
      "execution_count": null,
      "outputs": [
        {
          "output_type": "execute_result",
          "data": {
            "text/html": [
              "<div>\n",
              "<style scoped>\n",
              "    .dataframe tbody tr th:only-of-type {\n",
              "        vertical-align: middle;\n",
              "    }\n",
              "\n",
              "    .dataframe tbody tr th {\n",
              "        vertical-align: top;\n",
              "    }\n",
              "\n",
              "    .dataframe thead th {\n",
              "        text-align: right;\n",
              "    }\n",
              "</style>\n",
              "<table border=\"1\" class=\"dataframe\">\n",
              "  <thead>\n",
              "    <tr style=\"text-align: right;\">\n",
              "      <th></th>\n",
              "      <th>date</th>\n",
              "      <th>6~7_ride_sum</th>\n",
              "      <th>7~8_ride_sum</th>\n",
              "      <th>8~9_ride_sum</th>\n",
              "      <th>9~10_ride_sum</th>\n",
              "      <th>10~11_ride_sum</th>\n",
              "    </tr>\n",
              "  </thead>\n",
              "  <tbody>\n",
              "    <tr>\n",
              "      <th>0</th>\n",
              "      <td>2019-09-01</td>\n",
              "      <td>2942.0</td>\n",
              "      <td>4518.0</td>\n",
              "      <td>5682.0</td>\n",
              "      <td>6275.0</td>\n",
              "      <td>6774.0</td>\n",
              "    </tr>\n",
              "    <tr>\n",
              "      <th>1</th>\n",
              "      <td>2019-09-01</td>\n",
              "      <td>2942.0</td>\n",
              "      <td>4518.0</td>\n",
              "      <td>5682.0</td>\n",
              "      <td>6275.0</td>\n",
              "      <td>6774.0</td>\n",
              "    </tr>\n",
              "    <tr>\n",
              "      <th>2</th>\n",
              "      <td>2019-09-01</td>\n",
              "      <td>2942.0</td>\n",
              "      <td>4518.0</td>\n",
              "      <td>5682.0</td>\n",
              "      <td>6275.0</td>\n",
              "      <td>6774.0</td>\n",
              "    </tr>\n",
              "  </tbody>\n",
              "</table>\n",
              "</div>"
            ],
            "text/plain": [
              "        date  6~7_ride_sum  ...  9~10_ride_sum  10~11_ride_sum\n",
              "0 2019-09-01        2942.0  ...         6275.0          6774.0\n",
              "1 2019-09-01        2942.0  ...         6275.0          6774.0\n",
              "2 2019-09-01        2942.0  ...         6275.0          6774.0\n",
              "\n",
              "[3 rows x 6 columns]"
            ]
          },
          "metadata": {
            "tags": []
          },
          "execution_count": 145
        }
      ]
    },
    {
      "cell_type": "markdown",
      "metadata": {
        "id": "gnTzlivDF5n1"
      },
      "source": [
        "**<도메인 조사를 통한 변수 생성>**"
      ]
    },
    {
      "cell_type": "code",
      "metadata": {
        "id": "kEYIbWXWGBIt"
      },
      "source": [
        "''' 너무 오래 걸리네요 ㅎ....ㅎ.. 시간 여유있게 잡고 한 번 해보시고 저는 우선 생략하고 가보겠습니다...\n",
        "# 1. 배차 간격\n",
        "# 탑승 날짜를 datetime형으로 변환\n",
        "bts['geton_time2'] = pd.to_datetime(bts['geton_time'])\n",
        "\n",
        "# 탑승 날짜, 탑승 정류장 코드, 탑승 노선 번호 기준으로 정렬\n",
        "f = bts.sort_values(by=['geton_date','geton_station_code','bus_route_id', 'geton_time2'],ascending=True).reset_index()\n",
        "\n",
        "# 반복문 실행 시간이 많이 소요되어 상태 진행률을 확인할 수 있는 tqdm 라이브러리 사용\n",
        "from tqdm import notebook\n",
        "\n",
        "# 시차를 넣기 위한 빈 리스트 생성\n",
        "interval_lst = []\n",
        "for i in notebook.tqdm(range(0,len(f)-1)):\n",
        "    # 탑승 날짜, 탑승 정류장 코드, 탑승 노선 번호가 같다면\n",
        "    if ((f.iloc[i].geton_date == f.iloc[i+1].geton_date) & (f.iloc[i].geton_station_code == f.iloc[i+1].geton_station_code) & (f.iloc[i].bus_route_id == f.iloc[i+1].bus_route_id)):\n",
        "        # 탑승 날짜의 차를 interval_lst에 넣기\n",
        "        interval_lst.append(f.iloc[i+1].geton_time2 - f.iloc[i].geton_time2)\n",
        "    else:\n",
        "       # 같지 않다면 0을 interval_lst에 넣기\n",
        "        interval_lst.append(0)\n",
        "\n",
        "interval_lst.insert(0, '0')\n",
        "\n",
        "f['interval'] = interval_lst # interval_lst를 'interval'변수로 생성 \n",
        "# 'interval' 변수의 값을 문자형으로 변환 후 '시:분:초'의 형태로 변환\n",
        "f['interval'] = f['interval'].astype(str).str[7:].replace('','00:00:00')\n",
        "f['bus_route_id'] = f['bus_route_id'].astype(object)\n",
        "\n",
        "# 분으로 변환하는 함수\n",
        "def get_min(time_str):\n",
        "    h, m, s = time_str.split(':')\n",
        "    return (int(h) * 3600 + int(m) * 60 + int(s)) / 60\n",
        "# 'interval' 함수의 모든 값에 대해 함수 적용하여 나온 값을 time리스트에 넣기\n",
        "time = []\n",
        "for i in f['interval'] :\n",
        "    time.append(get_min(i))\n",
        "\n",
        "f['time'] = time # time리스트를 'time' 변수로 생성\n",
        "f['time'] = f['time'].astype(int) # 'time' 변수를 int 타입으로 변경\n",
        "f = f[f['time'] > 3] # 간격이 3분보다 작은 것 제외 \n",
        "f = f[f['time'] < 180] # 간격이 3시간보다 큰 것 제외\n",
        "\n",
        "# 버스 노선별 버스 간격의 평균 'bus_interval’변수 생성\n",
        "data = f.groupby('bus_route_id')['time'].agg([('bus_interval', 'mean')]).reset_index()\n",
        "data['bus_interval'] = data['bus_interval'].astype(int)\n",
        "\n",
        "# 변수 생성에 많은 시간이 소요되므로 csv 파일로 저장\n",
        "data.to_csv('bus_interval.csv', index = False)\n",
        "\n",
        "'''"
      ],
      "execution_count": null,
      "outputs": []
    },
    {
      "cell_type": "code",
      "metadata": {
        "colab": {
          "base_uri": "https://localhost:8080/",
          "height": 136
        },
        "id": "CUD2BswmJ4Pw",
        "outputId": "948e1dc0-f70a-46fe-a8f4-a2997309d881"
      },
      "source": [
        "# 2. school 변수 생성 (수요가 많을 것으로 예상되는 정류장)\n",
        "\n",
        "# 정류장명에 '고등학교'가 포함되어 있는 행 뽑기 \n",
        "highschool_station = df[df['station_name'].str.contains('고등학교')]\n",
        "# '고등학교'가 포함되어 있는 정류장명을 중복 없이 리스트에 저장\n",
        "highschool = list(highschool_station['station_name'].unique())\n",
        "# 정류장명에 '대학교'가 포함되어 있는 행 뽑기\n",
        "university_station = df[df['station_name'].str.contains('대학교')]\n",
        "# '대학교'가 포함되어 있는 정류장명을 중복 없이 리스트에 저장\n",
        "university = list(university_station['station_name'].unique())\n",
        "\n",
        "# '고등학교'와 '대학교' 근처 정류장 구분 함수\n",
        "def schoolstation(x):\n",
        "    # highschool 리스트에 정류장명이 포함되어 있다면 1을 반환\n",
        "    if x in highschool:\n",
        "        return 1\n",
        "    # university 리스트에 정류장명이 포함되어 있다면 1을 반환\n",
        "    elif x in university:\n",
        "        return 1\n",
        "    # 둘 다 포함되지 않는 정류장명이라면 0을 반환\n",
        "    else:\n",
        "        return 0\n",
        "\n",
        "# 모든 정류장명에 대해 적용\n",
        "df['school'] = df['station_name'].apply(schoolstation)\n",
        "\n",
        "df[['school']].head(3)"
      ],
      "execution_count": null,
      "outputs": [
        {
          "output_type": "execute_result",
          "data": {
            "text/html": [
              "<div>\n",
              "<style scoped>\n",
              "    .dataframe tbody tr th:only-of-type {\n",
              "        vertical-align: middle;\n",
              "    }\n",
              "\n",
              "    .dataframe tbody tr th {\n",
              "        vertical-align: top;\n",
              "    }\n",
              "\n",
              "    .dataframe thead th {\n",
              "        text-align: right;\n",
              "    }\n",
              "</style>\n",
              "<table border=\"1\" class=\"dataframe\">\n",
              "  <thead>\n",
              "    <tr style=\"text-align: right;\">\n",
              "      <th></th>\n",
              "      <th>school</th>\n",
              "    </tr>\n",
              "  </thead>\n",
              "  <tbody>\n",
              "    <tr>\n",
              "      <th>0</th>\n",
              "      <td>0</td>\n",
              "    </tr>\n",
              "    <tr>\n",
              "      <th>1</th>\n",
              "      <td>0</td>\n",
              "    </tr>\n",
              "    <tr>\n",
              "      <th>2</th>\n",
              "      <td>0</td>\n",
              "    </tr>\n",
              "  </tbody>\n",
              "</table>\n",
              "</div>"
            ],
            "text/plain": [
              "   school\n",
              "0       0\n",
              "1       0\n",
              "2       0"
            ]
          },
          "metadata": {
            "tags": []
          },
          "execution_count": 147
        }
      ]
    },
    {
      "cell_type": "code",
      "metadata": {
        "colab": {
          "base_uri": "https://localhost:8080/",
          "height": 136
        },
        "id": "DO0mvMGQKK1u",
        "outputId": "c1eba289-0932-4b9f-a4f5-d56674c452e2"
      },
      "source": [
        "# 3. transfer 변수 생성 (수요가 많을 것으로 예상되는 정류장)\n",
        "\n",
        "# school 변수와 동일한 방법으로 transfer 변수 생성\n",
        "transfer_station = df[df['station_name'].str.contains('환승')]\n",
        "transfers = list(transfer_station['station_name'].unique())\n",
        "\n",
        "airport_station = df[df['station_name'].str.contains('공항')]\n",
        "airport = list(airport_station['station_name'].unique())\n",
        "\n",
        "terminal_station = df[df['station_name'].str.contains('터미널')]\n",
        "terminal = list(terminal_station['station_name'].unique())\n",
        "\n",
        "# 항상 수요가 많은 정류장 구분 함수\n",
        "def transfer_station(x):\n",
        "    if x in transfers:\n",
        "        return 1\n",
        "    elif x in airport:\n",
        "        return 1\n",
        "    elif x in terminal:\n",
        "        return 1\n",
        "    else:\n",
        "        return 0\n",
        "\n",
        "df['transfer'] = df['station_name'].apply(transfer_station)\n",
        "\n",
        "df[['transfer']].head(3)"
      ],
      "execution_count": null,
      "outputs": [
        {
          "output_type": "execute_result",
          "data": {
            "text/html": [
              "<div>\n",
              "<style scoped>\n",
              "    .dataframe tbody tr th:only-of-type {\n",
              "        vertical-align: middle;\n",
              "    }\n",
              "\n",
              "    .dataframe tbody tr th {\n",
              "        vertical-align: top;\n",
              "    }\n",
              "\n",
              "    .dataframe thead th {\n",
              "        text-align: right;\n",
              "    }\n",
              "</style>\n",
              "<table border=\"1\" class=\"dataframe\">\n",
              "  <thead>\n",
              "    <tr style=\"text-align: right;\">\n",
              "      <th></th>\n",
              "      <th>transfer</th>\n",
              "    </tr>\n",
              "  </thead>\n",
              "  <tbody>\n",
              "    <tr>\n",
              "      <th>0</th>\n",
              "      <td>0</td>\n",
              "    </tr>\n",
              "    <tr>\n",
              "      <th>1</th>\n",
              "      <td>0</td>\n",
              "    </tr>\n",
              "    <tr>\n",
              "      <th>2</th>\n",
              "      <td>0</td>\n",
              "    </tr>\n",
              "  </tbody>\n",
              "</table>\n",
              "</div>"
            ],
            "text/plain": [
              "   transfer\n",
              "0         0\n",
              "1         0\n",
              "2         0"
            ]
          },
          "metadata": {
            "tags": []
          },
          "execution_count": 148
        }
      ]
    },
    {
      "cell_type": "code",
      "metadata": {
        "colab": {
          "base_uri": "https://localhost:8080/",
          "height": 136
        },
        "id": "PfqCHfhLKXMF",
        "outputId": "050184e4-1310-4b06-bc3e-5bdcf1ed5490"
      },
      "source": [
        "# 4. 연휴는 승차 인원에 영향을 줄 수 있으므로 holiday 변수 생성!\n",
        "\n",
        "# 날짜에서 연휴 구분 함수\n",
        "def holiday(x):\n",
        "    # 공휴일이라면 1을 반환\n",
        "    if x in ['2019-09-12','2019-09-13','2019-09-14','2019-10-03','2019-10-09']:\n",
        "        return 1\n",
        "    else:\n",
        "        # 공휴일이 아니라면 0을 반환\n",
        "        return 0\n",
        "\n",
        "    # 모든 날짜에 적용\n",
        "df['holiday'] = df['date'].apply(holiday)\n",
        "df[['holiday']].head(3)"
      ],
      "execution_count": null,
      "outputs": [
        {
          "output_type": "execute_result",
          "data": {
            "text/html": [
              "<div>\n",
              "<style scoped>\n",
              "    .dataframe tbody tr th:only-of-type {\n",
              "        vertical-align: middle;\n",
              "    }\n",
              "\n",
              "    .dataframe tbody tr th {\n",
              "        vertical-align: top;\n",
              "    }\n",
              "\n",
              "    .dataframe thead th {\n",
              "        text-align: right;\n",
              "    }\n",
              "</style>\n",
              "<table border=\"1\" class=\"dataframe\">\n",
              "  <thead>\n",
              "    <tr style=\"text-align: right;\">\n",
              "      <th></th>\n",
              "      <th>holiday</th>\n",
              "    </tr>\n",
              "  </thead>\n",
              "  <tbody>\n",
              "    <tr>\n",
              "      <th>0</th>\n",
              "      <td>0</td>\n",
              "    </tr>\n",
              "    <tr>\n",
              "      <th>1</th>\n",
              "      <td>0</td>\n",
              "    </tr>\n",
              "    <tr>\n",
              "      <th>2</th>\n",
              "      <td>0</td>\n",
              "    </tr>\n",
              "  </tbody>\n",
              "</table>\n",
              "</div>"
            ],
            "text/plain": [
              "   holiday\n",
              "0        0\n",
              "1        0\n",
              "2        0"
            ]
          },
          "metadata": {
            "tags": []
          },
          "execution_count": 149
        }
      ]
    },
    {
      "cell_type": "code",
      "metadata": {
        "colab": {
          "base_uri": "https://localhost:8080/",
          "height": 136
        },
        "id": "We749jexKnTi",
        "outputId": "c101c097-54e4-44a2-a4ed-c566bcd8048c"
      },
      "source": [
        "# 5. 승하차 시간대 통합 변수\n",
        "\n",
        "# 오전 시간대에 2시간 동안 승차한 인원수의 합계\n",
        "df['68a'] = df['6~7_ride'] + df['7~8_ride'] \n",
        "df['810a'] = df['8~9_ride'] + df['9~10_ride']\n",
        "df['1012a'] = df['10~11_ride'] + df['11~12_ride']\n",
        "\n",
        "# 오전 시간대에 2시간 동안 하차한 인원수의 합계\n",
        "df['68b'] = df['6~7_takeoff'] + df['7~8_takeoff'] \n",
        "df['810b'] = df['8~9_takeoff'] + df['9~10_takeoff']\n",
        "df['1012b'] = df['10~11_takeoff'] + df['11~12_takeoff']\n",
        "\n",
        "df[['68a', '810a', '1012a', '68b', '810b', '1012b']].head(3)"
      ],
      "execution_count": null,
      "outputs": [
        {
          "output_type": "execute_result",
          "data": {
            "text/html": [
              "<div>\n",
              "<style scoped>\n",
              "    .dataframe tbody tr th:only-of-type {\n",
              "        vertical-align: middle;\n",
              "    }\n",
              "\n",
              "    .dataframe tbody tr th {\n",
              "        vertical-align: top;\n",
              "    }\n",
              "\n",
              "    .dataframe thead th {\n",
              "        text-align: right;\n",
              "    }\n",
              "</style>\n",
              "<table border=\"1\" class=\"dataframe\">\n",
              "  <thead>\n",
              "    <tr style=\"text-align: right;\">\n",
              "      <th></th>\n",
              "      <th>68a</th>\n",
              "      <th>810a</th>\n",
              "      <th>1012a</th>\n",
              "      <th>68b</th>\n",
              "      <th>810b</th>\n",
              "      <th>1012b</th>\n",
              "    </tr>\n",
              "  </thead>\n",
              "  <tbody>\n",
              "    <tr>\n",
              "      <th>0</th>\n",
              "      <td>1.0</td>\n",
              "      <td>7.0</td>\n",
              "      <td>8.0</td>\n",
              "      <td>0.0</td>\n",
              "      <td>0.0</td>\n",
              "      <td>0.0</td>\n",
              "    </tr>\n",
              "    <tr>\n",
              "      <th>1</th>\n",
              "      <td>5.0</td>\n",
              "      <td>6.0</td>\n",
              "      <td>11.0</td>\n",
              "      <td>0.0</td>\n",
              "      <td>0.0</td>\n",
              "      <td>0.0</td>\n",
              "    </tr>\n",
              "    <tr>\n",
              "      <th>2</th>\n",
              "      <td>2.0</td>\n",
              "      <td>2.0</td>\n",
              "      <td>0.0</td>\n",
              "      <td>0.0</td>\n",
              "      <td>0.0</td>\n",
              "      <td>0.0</td>\n",
              "    </tr>\n",
              "  </tbody>\n",
              "</table>\n",
              "</div>"
            ],
            "text/plain": [
              "   68a  810a  1012a  68b  810b  1012b\n",
              "0  1.0   7.0    8.0  0.0   0.0    0.0\n",
              "1  5.0   6.0   11.0  0.0   0.0    0.0\n",
              "2  2.0   2.0    0.0  0.0   0.0    0.0"
            ]
          },
          "metadata": {
            "tags": []
          },
          "execution_count": 150
        }
      ]
    },
    {
      "cell_type": "code",
      "metadata": {
        "colab": {
          "base_uri": "https://localhost:8080/",
          "height": 136
        },
        "id": "Siw59L9pKzz6",
        "outputId": "44980502-a4cc-486e-e4bc-02e347d4ffa7"
      },
      "source": [
        "# 6. 오전 시간의 승객 수\n",
        "\n",
        "# 오전 시간(6시~12시)에 승차한 승객 수의 합계\n",
        "df['ride_sum'] = df[['6~7_ride', '7~8_ride', '8~9_ride', '9~10_ride', \n",
        "                     '10~11_ride', '11~12_ride']].sum(axis=1)\n",
        "\n",
        "# 오전 시간(6시~12시)에 하차한 승객 수의 합계\n",
        "df['takeoff_sum'] = df[['6~7_takeoff', '7~8_takeoff', '8~9_takeoff', '9~10_takeoff', '10~11_takeoff', '11~12_takeoff']].sum(axis=1)\n",
        "\n",
        "df[['ride_sum', 'takeoff_sum']].head(3)"
      ],
      "execution_count": null,
      "outputs": [
        {
          "output_type": "execute_result",
          "data": {
            "text/html": [
              "<div>\n",
              "<style scoped>\n",
              "    .dataframe tbody tr th:only-of-type {\n",
              "        vertical-align: middle;\n",
              "    }\n",
              "\n",
              "    .dataframe tbody tr th {\n",
              "        vertical-align: top;\n",
              "    }\n",
              "\n",
              "    .dataframe thead th {\n",
              "        text-align: right;\n",
              "    }\n",
              "</style>\n",
              "<table border=\"1\" class=\"dataframe\">\n",
              "  <thead>\n",
              "    <tr style=\"text-align: right;\">\n",
              "      <th></th>\n",
              "      <th>ride_sum</th>\n",
              "      <th>takeoff_sum</th>\n",
              "    </tr>\n",
              "  </thead>\n",
              "  <tbody>\n",
              "    <tr>\n",
              "      <th>0</th>\n",
              "      <td>16.0</td>\n",
              "      <td>0.0</td>\n",
              "    </tr>\n",
              "    <tr>\n",
              "      <th>1</th>\n",
              "      <td>22.0</td>\n",
              "      <td>0.0</td>\n",
              "    </tr>\n",
              "    <tr>\n",
              "      <th>2</th>\n",
              "      <td>4.0</td>\n",
              "      <td>0.0</td>\n",
              "    </tr>\n",
              "  </tbody>\n",
              "</table>\n",
              "</div>"
            ],
            "text/plain": [
              "   ride_sum  takeoff_sum\n",
              "0      16.0          0.0\n",
              "1      22.0          0.0\n",
              "2       4.0          0.0"
            ]
          },
          "metadata": {
            "tags": []
          },
          "execution_count": 151
        }
      ]
    },
    {
      "cell_type": "code",
      "metadata": {
        "colab": {
          "base_uri": "https://localhost:8080/",
          "height": 136
        },
        "id": "egFNoS1yLC64",
        "outputId": "deeaee38-f091-445d-e072-9cc73fdec019"
      },
      "source": [
        "# 7. 위에서 만든 변수에 '노선' 기준을 추가하여 '노선별 오전 시간대의 총, 평균 탑승객 수 구하기'\n",
        "\n",
        "# 'bus_route_id'와 'station_code'를 결합해 route_station 생성\n",
        "df['route_station'] = df['bus_route_id'].astype(str) + ',' \\\n",
        "                    + df['station_code'].astype(str)\n",
        "\n",
        "# 버스노선별 오전시간의 총 승객수와 평균 승객수 구하기\n",
        "data = df.groupby(['route_station'])['1012a'].agg({'sum', 'mean'}).reset_index()\n",
        "\n",
        "# 변수명을 route_station, 1012a_mean, 1012a_sum으로 바꾸기\n",
        "data.rename(columns = {'mean':'1012a_mean', 'sum':'1012a_sum'}, inplace=True)\n",
        "\n",
        "# 기존의 데이터프레임에 새로운 변수를 병합\n",
        "df = pd.merge(df, data, how='left', on='route_station')\n",
        "\n",
        "df[['1012a_mean','1012a_sum']].head(3)"
      ],
      "execution_count": null,
      "outputs": [
        {
          "output_type": "execute_result",
          "data": {
            "text/html": [
              "<div>\n",
              "<style scoped>\n",
              "    .dataframe tbody tr th:only-of-type {\n",
              "        vertical-align: middle;\n",
              "    }\n",
              "\n",
              "    .dataframe tbody tr th {\n",
              "        vertical-align: top;\n",
              "    }\n",
              "\n",
              "    .dataframe thead th {\n",
              "        text-align: right;\n",
              "    }\n",
              "</style>\n",
              "<table border=\"1\" class=\"dataframe\">\n",
              "  <thead>\n",
              "    <tr style=\"text-align: right;\">\n",
              "      <th></th>\n",
              "      <th>1012a_mean</th>\n",
              "      <th>1012a_sum</th>\n",
              "    </tr>\n",
              "  </thead>\n",
              "  <tbody>\n",
              "    <tr>\n",
              "      <th>0</th>\n",
              "      <td>5.304348</td>\n",
              "      <td>244.0</td>\n",
              "    </tr>\n",
              "    <tr>\n",
              "      <th>1</th>\n",
              "      <td>11.608696</td>\n",
              "      <td>534.0</td>\n",
              "    </tr>\n",
              "    <tr>\n",
              "      <th>2</th>\n",
              "      <td>2.304348</td>\n",
              "      <td>106.0</td>\n",
              "    </tr>\n",
              "  </tbody>\n",
              "</table>\n",
              "</div>"
            ],
            "text/plain": [
              "   1012a_mean  1012a_sum\n",
              "0    5.304348      244.0\n",
              "1   11.608696      534.0\n",
              "2    2.304348      106.0"
            ]
          },
          "metadata": {
            "tags": []
          },
          "execution_count": 152
        }
      ]
    },
    {
      "cell_type": "code",
      "metadata": {
        "colab": {
          "base_uri": "https://localhost:8080/",
          "height": 136
        },
        "id": "OcXfj6pzLTq8",
        "outputId": "3a034959-8e37-4d22-b0f2-8135634649bf"
      },
      "source": [
        "# 8. 카테고리별 승객 수의 합\n",
        "def category_people():\n",
        "    # df와 병합을 위해 bus_route_id의 타입을 str로 변환\n",
        "    bts['bus_route_id'] = bts['bus_route_id'].astype(str)\n",
        "\n",
        "    # bus_route_id와 user_category별 승객 수의 합\n",
        "    f = bts.groupby(\n",
        "        ['bus_route_id','user_category']\n",
        "    )['user_count'].agg([('승객수', 'sum')]).reset_index()\n",
        "\n",
        "    # bus_route_id별 user_category 변수의 승객수의 피벗 테이블 형태로 변환\n",
        "    g = pd.pivot_table(f, values='승객수', index='bus_route_id', \n",
        "                       columns='user_category', fill_value=0).reset_index()\n",
        "    g.columns = ['bus_route_id', 'adult','kids','teen','elder','jang','jang2','ugong','ugong2']\n",
        "    g = g[['bus_route_id', 'adult','kids','teen','elder']]\n",
        "\n",
        "    # 기존의 데이터프레임에 새로운 변수를 병합\n",
        "    merge_data = pd.merge(df, g, how='left', on='bus_route_id')\n",
        "                 \n",
        "    return merge_data\n",
        "\n",
        "# bus_route_id의 타입을 str로 통일시켜준 뒤, 함수를 실행하여 변수 생성\n",
        "df['bus_route_id'] = df['bus_route_id'].astype(str)\n",
        "df = category_people()\n",
        "\n",
        "df[['adult','kids','teen','elder']].head(3)"
      ],
      "execution_count": null,
      "outputs": [
        {
          "output_type": "execute_result",
          "data": {
            "text/html": [
              "<div>\n",
              "<style scoped>\n",
              "    .dataframe tbody tr th:only-of-type {\n",
              "        vertical-align: middle;\n",
              "    }\n",
              "\n",
              "    .dataframe tbody tr th {\n",
              "        vertical-align: top;\n",
              "    }\n",
              "\n",
              "    .dataframe thead th {\n",
              "        text-align: right;\n",
              "    }\n",
              "</style>\n",
              "<table border=\"1\" class=\"dataframe\">\n",
              "  <thead>\n",
              "    <tr style=\"text-align: right;\">\n",
              "      <th></th>\n",
              "      <th>adult</th>\n",
              "      <th>kids</th>\n",
              "      <th>teen</th>\n",
              "      <th>elder</th>\n",
              "    </tr>\n",
              "  </thead>\n",
              "  <tbody>\n",
              "    <tr>\n",
              "      <th>0</th>\n",
              "      <td>8158.0</td>\n",
              "      <td>72.0</td>\n",
              "      <td>38.0</td>\n",
              "      <td>0.0</td>\n",
              "    </tr>\n",
              "    <tr>\n",
              "      <th>1</th>\n",
              "      <td>8158.0</td>\n",
              "      <td>72.0</td>\n",
              "      <td>38.0</td>\n",
              "      <td>0.0</td>\n",
              "    </tr>\n",
              "    <tr>\n",
              "      <th>2</th>\n",
              "      <td>8158.0</td>\n",
              "      <td>72.0</td>\n",
              "      <td>38.0</td>\n",
              "      <td>0.0</td>\n",
              "    </tr>\n",
              "  </tbody>\n",
              "</table>\n",
              "</div>"
            ],
            "text/plain": [
              "    adult  kids  teen  elder\n",
              "0  8158.0  72.0  38.0    0.0\n",
              "1  8158.0  72.0  38.0    0.0\n",
              "2  8158.0  72.0  38.0    0.0"
            ]
          },
          "metadata": {
            "tags": []
          },
          "execution_count": 153
        }
      ]
    },
    {
      "cell_type": "code",
      "metadata": {
        "colab": {
          "base_uri": "https://localhost:8080/",
          "height": 136
        },
        "id": "pycP1QsCLctH",
        "outputId": "977bfb8b-2fa7-49f0-bcb9-cf2682287ee4"
      },
      "source": [
        "# 9. 카테고리별 승객 비율\n",
        "def category_people_ratio() :\n",
        "\n",
        "    # bus_route_id별 user_category의 전체 합\n",
        "    f_all = bts.groupby('bus_route_id'\n",
        "                       )['user_count'].agg([('전체', 'sum')]).reset_index()\n",
        "\n",
        "   # bus_route_id와 user_category별 승객 수의 합\n",
        "    f_sum = bts.groupby(['bus_route_id','user_category']\n",
        "                       )['user_count'].agg([('승객수', 'sum')]).reset_index()\n",
        "    \n",
        "    # 승객 수의 합을 전체 합으로 나눠줘 비율을 구함\n",
        "    data = pd.merge(f_all, f_sum, on='bus_route_id')\n",
        "    data['비율'] = data['승객수'] / data['전체']\n",
        "\n",
        "   # 피벗 테이블을 통해 bus_route_id별 user_category변수의 승객 비율 형태로 변환\n",
        "    data = pd.pivot_table(data, values='비율', index='bus_route_id', \n",
        "                          columns='user_category',fill_value=0).reset_index()\n",
        "    data.columns = ['bus_route_id', 'adult_prop','kids_prop','teen_prop','elder_prop','jang_prop','jang2_prop','ugong_prop','ugong2_prop']\n",
        "    f = data[['bus_route_id', 'adult_prop','kids_prop','teen_prop','elder_prop']]\n",
        "\n",
        "    # 기존의 데이터프레임에 새로운 변수를 병합\n",
        "    merge_data = pd.merge(df, f, how='left', on='bus_route_id')\n",
        "\n",
        "    return merge_data\n",
        "\n",
        "# 함수를 실행하여 변수 생성\n",
        "df = category_people_ratio()\n",
        "\n",
        "df[['adult_prop','kids_prop','teen_prop','elder_prop']].head(3)"
      ],
      "execution_count": null,
      "outputs": [
        {
          "output_type": "execute_result",
          "data": {
            "text/html": [
              "<div>\n",
              "<style scoped>\n",
              "    .dataframe tbody tr th:only-of-type {\n",
              "        vertical-align: middle;\n",
              "    }\n",
              "\n",
              "    .dataframe tbody tr th {\n",
              "        vertical-align: top;\n",
              "    }\n",
              "\n",
              "    .dataframe thead th {\n",
              "        text-align: right;\n",
              "    }\n",
              "</style>\n",
              "<table border=\"1\" class=\"dataframe\">\n",
              "  <thead>\n",
              "    <tr style=\"text-align: right;\">\n",
              "      <th></th>\n",
              "      <th>adult_prop</th>\n",
              "      <th>kids_prop</th>\n",
              "      <th>teen_prop</th>\n",
              "      <th>elder_prop</th>\n",
              "    </tr>\n",
              "  </thead>\n",
              "  <tbody>\n",
              "    <tr>\n",
              "      <th>0</th>\n",
              "      <td>0.986696</td>\n",
              "      <td>0.008708</td>\n",
              "      <td>0.004596</td>\n",
              "      <td>0.0</td>\n",
              "    </tr>\n",
              "    <tr>\n",
              "      <th>1</th>\n",
              "      <td>0.986696</td>\n",
              "      <td>0.008708</td>\n",
              "      <td>0.004596</td>\n",
              "      <td>0.0</td>\n",
              "    </tr>\n",
              "    <tr>\n",
              "      <th>2</th>\n",
              "      <td>0.986696</td>\n",
              "      <td>0.008708</td>\n",
              "      <td>0.004596</td>\n",
              "      <td>0.0</td>\n",
              "    </tr>\n",
              "  </tbody>\n",
              "</table>\n",
              "</div>"
            ],
            "text/plain": [
              "   adult_prop  kids_prop  teen_prop  elder_prop\n",
              "0    0.986696   0.008708   0.004596         0.0\n",
              "1    0.986696   0.008708   0.004596         0.0\n",
              "2    0.986696   0.008708   0.004596         0.0"
            ]
          },
          "metadata": {
            "tags": []
          },
          "execution_count": 154
        }
      ]
    },
    {
      "cell_type": "code",
      "metadata": {
        "id": "iwoj541ELpkc"
      },
      "source": [
        "# 연속형 변수의 결측치를 평균값으로 처리할 수 있도록 SimpleImputer를 사용\n",
        "from sklearn.impute import SimpleImputer  \n",
        "\n",
        "# SimpleImputer를 사용할 변수 추출\n",
        "na_col = ['adult', 'kids', 'teen', 'elder', 'adult_prop', 'kids_prop', 'teen_prop',\n",
        "          'elder_prop']\n",
        "# 평균값으로 결측치 처리를 위해 strategy옵션을 mean으로 설정 \n",
        "imputer = SimpleImputer(strategy=\"mean\")\n",
        "# 각 변수에 대해 평균값을 구하고 결측치 대치를 위해 fit_transform을 사용\n",
        "df[na_col] = pd.DataFrame(imputer.fit_transform(df[na_col]), columns = na_col)"
      ],
      "execution_count": null,
      "outputs": []
    },
    {
      "cell_type": "code",
      "metadata": {
        "colab": {
          "base_uri": "https://localhost:8080/",
          "height": 88
        },
        "id": "SI4patCzLs1Y",
        "outputId": "52c8a3cd-7bc3-4b45-b9b1-0e0583d6930f"
      },
      "source": [
        "'''\n",
        "# 10. 버스 정류장과 인구 밀집 지역 사이 거리 변수 생성 (실행 5분 정도 걸리는 것 같습니다)\n",
        "import geopy.distance\n",
        "\n",
        "coords_jejusi = (33.500770, 126.522761) # 제주시의 위도 경도\n",
        "coords_seoquiposi = (33.259429, 126.558217) # 서귀포시의 위도 경도\n",
        "\n",
        "# 제주시와의 거리\n",
        "df['dis_jejusi'] = [geopy.distance.geodesic((df['latitude'].iloc[i],\n",
        "    df['longitude'].iloc[i]), coords_jejusi).km for i in range(len(df))]\n",
        "# 서귀포시와의 거리\n",
        "df['dis_seoquiposi'] = [geopy.distance.geodesic((df['latitude'].iloc[i],\n",
        "    df['longitude'].iloc[i]), coords_seoquiposi).km for i in range(len(df))]\n",
        "    \n",
        "df[['dis_jejusi', 'dis_seoquiposi']].head(3)\n",
        "'''"
      ],
      "execution_count": null,
      "outputs": [
        {
          "output_type": "execute_result",
          "data": {
            "application/vnd.google.colaboratory.intrinsic+json": {
              "type": "string"
            },
            "text/plain": [
              "\"\\n# 10. 버스 정류장과 인구 밀집 지역 사이 거리 변수 생성 (실행 5분 정도 걸리는 것 같습니다)\\nimport geopy.distance\\n\\ncoords_jejusi = (33.500770, 126.522761) # 제주시의 위도 경도\\ncoords_seoquiposi = (33.259429, 126.558217) # 서귀포시의 위도 경도\\n\\n# 제주시와의 거리\\ndf['dis_jejusi'] = [geopy.distance.geodesic((df['latitude'].iloc[i],\\n    df['longitude'].iloc[i]), coords_jejusi).km for i in range(len(df))]\\n# 서귀포시와의 거리\\ndf['dis_seoquiposi'] = [geopy.distance.geodesic((df['latitude'].iloc[i],\\n    df['longitude'].iloc[i]), coords_seoquiposi).km for i in range(len(df))]\\n    \\ndf[['dis_jejusi', 'dis_seoquiposi']].head(3)\\n\""
            ]
          },
          "metadata": {
            "tags": []
          },
          "execution_count": 156
        }
      ]
    },
    {
      "cell_type": "code",
      "metadata": {
        "colab": {
          "base_uri": "https://localhost:8080/",
          "height": 142
        },
        "id": "r0C1U8fFMA5J",
        "outputId": "08e6eac0-fef5-49f3-86ea-6afbb385575b"
      },
      "source": [
        "'''\n",
        "# 11. 탑승하는 승객의 수가 많은 버스 정류장과의 거리 (실행 25분 정도 걸리네요...)\n",
        "\n",
        "# 승차 인원 상위 10개의 버스정류장 좌표\n",
        "coords_jejusicheong1 = (33.49892, 126.53035) # 제주시청(광양 방면)의 위도 경도\n",
        "coords_jejuairport = (33.50661, 126.49345) # 제주국제공항(구제주 방면)의 위도 경도\n",
        "coords_hallahosp = (33.48963, 126.486) # 한라병원의 위도 경도\n",
        "coords_rotary = (33.49143, 126.49678) # 제주도청신제주로터리의 위도 경도\n",
        "coords_jejucenterhigh = (33.48902, 126.5392) # 제주중앙여자고등학교의 위도 경도\n",
        "coords_jejumarket = (33.51315, 126.52706) # 동문시장의 위도 경도\n",
        "coords_jejusclass = (33.47626, 126.48141) # 제주고등학교/중흥S클래스의 위도 경도\n",
        "coords_centerroad = (33.51073, 126.5239) # 중앙로(국민은행)의 위도 경도\n",
        "coords_fiveway = (33.48667, 126.48092) # 노형오거리의 위도 경도\n",
        "coords_law = (33.49363, 126.53476) # 제주지방법원(광양 방면)의 위도 경도\n",
        "\n",
        "# 승차 인원 상위 10개의 버스정류장 좌표와 각 정류장의 지구 표면에서 두 점 사이의 거리를 구함\n",
        "df['dis_jejusicheong1'] = [geopy.distance.geodesic((df['latitude'].iloc[i],\n",
        "    df['longitude'].iloc[i]), coords_jejusicheong1).km for i in range(len(df))]\n",
        "df['dis_jejuairport'] = [geopy.distance.geodesic((df['latitude'].iloc[i],\n",
        "    df['longitude'].iloc[i]), coords_jejuairport).km for i in range(len(df))]\n",
        "df['dis_hallahosp'] = [geopy.distance.geodesic((df['latitude'].iloc[i],\n",
        "    df['longitude'].iloc[i]), coords_hallahosp).km for i in range(len(df))]\n",
        "df['dis_rotary'] = [geopy.distance.geodesic((df['latitude'].iloc[i],\n",
        "    df['longitude'].iloc[i]), coords_rotary).km for i in range(len(df))]\n",
        "df['dis_jejucenterhigh'] = [geopy.distance.geodesic((df['latitude'].iloc[i],\n",
        "    df['longitude'].iloc[i]), coords_jejucenterhigh).km for i in range(len(df))]\n",
        "df['dis_jejumarket'] = [geopy.distance.geodesic((df['latitude'].iloc[i],\n",
        "    df['longitude'].iloc[i]), coords_jejumarket).km for i in range(len(df))]\n",
        "df['dis_jejusclass'] = [geopy.distance.geodesic((df['latitude'].iloc[i],\n",
        "    df['longitude'].iloc[i]), coords_jejusclass).km for i in range(len(df))]\n",
        "df['dis_centerroad'] = [geopy.distance.geodesic((df['latitude'].iloc[i],\n",
        "    df['longitude'].iloc[i]), coords_centerroad).km for i in range(len(df))]\n",
        "df['dis_fiveway'] = [geopy.distance.geodesic((df['latitude'].iloc[i],\n",
        "    df['longitude'].iloc[i]), coords_fiveway).km for i in range(len(df))]\n",
        "df['dis_law'] = [geopy.distance.geodesic((df['latitude'].iloc[i],\n",
        "    df['longitude'].iloc[i]), coords_law).km for i in range(len(df))]\n",
        "\n",
        "df[['dis_jejusicheong1', 'dis_jejuairport', 'dis_hallahosp', 'dis_rotary','dis_jejucenterhigh', 'dis_jejumarket', 'dis_jejusclass', 'dis_centerroad','dis_fiveway', 'dis_law']].head(3)\n",
        "'''"
      ],
      "execution_count": null,
      "outputs": [
        {
          "output_type": "execute_result",
          "data": {
            "application/vnd.google.colaboratory.intrinsic+json": {
              "type": "string"
            },
            "text/plain": [
              "\"\\n# 11. 탑승하는 승객의 수가 많은 버스 정류장과의 거리 (실행 25분 정도 걸리네요...)\\n\\n# 승차 인원 상위 10개의 버스정류장 좌표\\ncoords_jejusicheong1 = (33.49892, 126.53035) # 제주시청(광양 방면)의 위도 경도\\ncoords_jejuairport = (33.50661, 126.49345) # 제주국제공항(구제주 방면)의 위도 경도\\ncoords_hallahosp = (33.48963, 126.486) # 한라병원의 위도 경도\\ncoords_rotary = (33.49143, 126.49678) # 제주도청신제주로터리의 위도 경도\\ncoords_jejucenterhigh = (33.48902, 126.5392) # 제주중앙여자고등학교의 위도 경도\\ncoords_jejumarket = (33.51315, 126.52706) # 동문시장의 위도 경도\\ncoords_jejusclass = (33.47626, 126.48141) # 제주고등학교/중흥S클래스의 위도 경도\\ncoords_centerroad = (33.51073, 126.5239) # 중앙로(국민은행)의 위도 경도\\ncoords_fiveway = (33.48667, 126.48092) # 노형오거리의 위도 경도\\ncoords_law = (33.49363, 126.53476) # 제주지방법원(광양 방면)의 위도 경도\\n\\n# 승차 인원 상위 10개의 버스정류장 좌표와 각 정류장의 지구 표면에서 두 점 사이의 거리를 구함\\ndf['dis_jejusicheong1'] = [geopy.distance.geodesic((df['latitude'].iloc[i],\\n    df['longitude'].iloc[i]), coords_jejusicheong1).km for i in range(len(df))]\\ndf['dis_jejuairport'] = [geopy.distance.geodesic((df['latitude'].iloc[i],\\n    df['longitude'].iloc[i]), coords_jejuairport).km for i in range(len(df))]\\ndf['dis_hallahosp'] = [geopy.distance.geodesic((df['latitude'].iloc[i],\\n    df['longitude'].iloc[i]), coords_hallahosp).km for i in range(len(df))]\\ndf['dis_rotary'] = [geopy.distance.geodesic((df['latitude'].iloc[i],\\n    df['longitude'].iloc[i]), coords_rotary).km for i in range(len(df))]\\ndf['dis_jejucenterhigh'] = [geopy.distance.geodesic((df['latitude'].iloc[i],\\n    df['longitude'].iloc[i]), coords_jejucenterhigh).km for i in range(len(df))]\\ndf['dis_jejumarket'] = [geopy.distance.geodesic((df['latitude'].iloc[i],\\n    df['longitude'].iloc[i]), coords_jejumarket).km for i in range(len(df))]\\ndf['dis_jejusclass'] = [geopy.distance.geodesic((df['latitude'].iloc[i],\\n    df['longitude'].iloc[i]), coords_jejusclass).km for i in range(len(df))]\\ndf['dis_centerroad'] = [geopy.distance.geodesic((df['latitude'].iloc[i],\\n    df['longitude'].iloc[i]), coords_centerroad).km for i in range(len(df))]\\ndf['dis_fiveway'] = [geopy.distance.geodesic((df['latitude'].iloc[i],\\n    df['longitude'].iloc[i]), coords_fiveway).km for i in range(len(df))]\\ndf['dis_law'] = [geopy.distance.geodesic((df['latitude'].iloc[i],\\n    df['longitude'].iloc[i]), coords_law).km for i in range(len(df))]\\n\\ndf[['dis_jejusicheong1', 'dis_jejuairport', 'dis_hallahosp', 'dis_rotary','dis_jejucenterhigh', 'dis_jejumarket', 'dis_jejusclass', 'dis_centerroad','dis_fiveway', 'dis_law']].head(3)\\n\""
            ]
          },
          "metadata": {
            "tags": []
          },
          "execution_count": 157
        }
      ]
    },
    {
      "cell_type": "markdown",
      "metadata": {
        "id": "3rIF2Q-u0NVc"
      },
      "source": [
        "### **3.3.2 외부 데이터를 통한 변수 생성**"
      ]
    },
    {
      "cell_type": "markdown",
      "metadata": {
        "id": "9YR6fH7K0PL3"
      },
      "source": [
        "### **3.3.3 라벨 인코딩과 원핫 인코딩 변수**"
      ]
    },
    {
      "cell_type": "code",
      "metadata": {
        "colab": {
          "base_uri": "https://localhost:8080/",
          "height": 136
        },
        "id": "EE2WkTXVTKFh",
        "outputId": "50ef99e3-68e1-4290-fc46-e847f0db76a1"
      },
      "source": [
        "# 라벨 인코딩 변수(시내/시외)\n",
        "df['in_out'] = df['in_out'].map({'시내':0, '시외':1})\n",
        "df[['in_out']].head(3)"
      ],
      "execution_count": null,
      "outputs": [
        {
          "output_type": "execute_result",
          "data": {
            "text/html": [
              "<div>\n",
              "<style scoped>\n",
              "    .dataframe tbody tr th:only-of-type {\n",
              "        vertical-align: middle;\n",
              "    }\n",
              "\n",
              "    .dataframe tbody tr th {\n",
              "        vertical-align: top;\n",
              "    }\n",
              "\n",
              "    .dataframe thead th {\n",
              "        text-align: right;\n",
              "    }\n",
              "</style>\n",
              "<table border=\"1\" class=\"dataframe\">\n",
              "  <thead>\n",
              "    <tr style=\"text-align: right;\">\n",
              "      <th></th>\n",
              "      <th>in_out</th>\n",
              "    </tr>\n",
              "  </thead>\n",
              "  <tbody>\n",
              "    <tr>\n",
              "      <th>0</th>\n",
              "      <td>1</td>\n",
              "    </tr>\n",
              "    <tr>\n",
              "      <th>1</th>\n",
              "      <td>1</td>\n",
              "    </tr>\n",
              "    <tr>\n",
              "      <th>2</th>\n",
              "      <td>1</td>\n",
              "    </tr>\n",
              "  </tbody>\n",
              "</table>\n",
              "</div>"
            ],
            "text/plain": [
              "   in_out\n",
              "0       1\n",
              "1       1\n",
              "2       1"
            ]
          },
          "metadata": {
            "tags": []
          },
          "execution_count": 158
        }
      ]
    },
    {
      "cell_type": "code",
      "metadata": {
        "colab": {
          "base_uri": "https://localhost:8080/",
          "height": 136
        },
        "id": "TxsMv99_TSCI",
        "outputId": "dac2ebaa-498c-43ac-ed6a-49bf54a26efc"
      },
      "source": [
        "# 라벨 인코딩 변수(주중/주말)\n",
        "def is_weekend(x):\n",
        "    if x == 5: # 토요일\n",
        "        return 1\n",
        "    elif x == 6: # 일요일\n",
        "        return 1\n",
        "    else:\n",
        "        return 0\n",
        "# 'weekday’변수에 is_weekend함수를 적용하여 'weekend' 변수 생성      \n",
        "df['weekend'] = df['weekday'].apply(is_weekend)\n",
        "\n",
        "df[['weekend']].head(3)"
      ],
      "execution_count": null,
      "outputs": [
        {
          "output_type": "execute_result",
          "data": {
            "text/html": [
              "<div>\n",
              "<style scoped>\n",
              "    .dataframe tbody tr th:only-of-type {\n",
              "        vertical-align: middle;\n",
              "    }\n",
              "\n",
              "    .dataframe tbody tr th {\n",
              "        vertical-align: top;\n",
              "    }\n",
              "\n",
              "    .dataframe thead th {\n",
              "        text-align: right;\n",
              "    }\n",
              "</style>\n",
              "<table border=\"1\" class=\"dataframe\">\n",
              "  <thead>\n",
              "    <tr style=\"text-align: right;\">\n",
              "      <th></th>\n",
              "      <th>weekend</th>\n",
              "    </tr>\n",
              "  </thead>\n",
              "  <tbody>\n",
              "    <tr>\n",
              "      <th>0</th>\n",
              "      <td>1</td>\n",
              "    </tr>\n",
              "    <tr>\n",
              "      <th>1</th>\n",
              "      <td>1</td>\n",
              "    </tr>\n",
              "    <tr>\n",
              "      <th>2</th>\n",
              "      <td>1</td>\n",
              "    </tr>\n",
              "  </tbody>\n",
              "</table>\n",
              "</div>"
            ],
            "text/plain": [
              "   weekend\n",
              "0        1\n",
              "1        1\n",
              "2        1"
            ]
          },
          "metadata": {
            "tags": []
          },
          "execution_count": 159
        }
      ]
    },
    {
      "cell_type": "code",
      "metadata": {
        "colab": {
          "base_uri": "https://localhost:8080/",
          "height": 195
        },
        "id": "JvMdrdkiTtNW",
        "outputId": "75462801-2c0b-4ba4-e5e3-a08d05a2dd59"
      },
      "source": [
        "# 원핫 인코딩 변수(weekday)\n",
        "df = pd.get_dummies(df, columns=['weekday'])\n",
        "\n",
        "df[['weekday_0', 'weekday_1', 'weekday_2', 'weekday_3','weekday_4', 'weekday_5', 'weekday_6']].head(3)"
      ],
      "execution_count": null,
      "outputs": [
        {
          "output_type": "execute_result",
          "data": {
            "text/html": [
              "<div>\n",
              "<style scoped>\n",
              "    .dataframe tbody tr th:only-of-type {\n",
              "        vertical-align: middle;\n",
              "    }\n",
              "\n",
              "    .dataframe tbody tr th {\n",
              "        vertical-align: top;\n",
              "    }\n",
              "\n",
              "    .dataframe thead th {\n",
              "        text-align: right;\n",
              "    }\n",
              "</style>\n",
              "<table border=\"1\" class=\"dataframe\">\n",
              "  <thead>\n",
              "    <tr style=\"text-align: right;\">\n",
              "      <th></th>\n",
              "      <th>weekday_0</th>\n",
              "      <th>weekday_1</th>\n",
              "      <th>weekday_2</th>\n",
              "      <th>weekday_3</th>\n",
              "      <th>weekday_4</th>\n",
              "      <th>weekday_5</th>\n",
              "      <th>weekday_6</th>\n",
              "    </tr>\n",
              "  </thead>\n",
              "  <tbody>\n",
              "    <tr>\n",
              "      <th>0</th>\n",
              "      <td>0</td>\n",
              "      <td>0</td>\n",
              "      <td>0</td>\n",
              "      <td>0</td>\n",
              "      <td>0</td>\n",
              "      <td>0</td>\n",
              "      <td>1</td>\n",
              "    </tr>\n",
              "    <tr>\n",
              "      <th>1</th>\n",
              "      <td>0</td>\n",
              "      <td>0</td>\n",
              "      <td>0</td>\n",
              "      <td>0</td>\n",
              "      <td>0</td>\n",
              "      <td>0</td>\n",
              "      <td>1</td>\n",
              "    </tr>\n",
              "    <tr>\n",
              "      <th>2</th>\n",
              "      <td>0</td>\n",
              "      <td>0</td>\n",
              "      <td>0</td>\n",
              "      <td>0</td>\n",
              "      <td>0</td>\n",
              "      <td>0</td>\n",
              "      <td>1</td>\n",
              "    </tr>\n",
              "    <tr>\n",
              "      <th>3</th>\n",
              "      <td>0</td>\n",
              "      <td>0</td>\n",
              "      <td>0</td>\n",
              "      <td>0</td>\n",
              "      <td>0</td>\n",
              "      <td>0</td>\n",
              "      <td>1</td>\n",
              "    </tr>\n",
              "    <tr>\n",
              "      <th>4</th>\n",
              "      <td>0</td>\n",
              "      <td>0</td>\n",
              "      <td>0</td>\n",
              "      <td>0</td>\n",
              "      <td>0</td>\n",
              "      <td>0</td>\n",
              "      <td>1</td>\n",
              "    </tr>\n",
              "  </tbody>\n",
              "</table>\n",
              "</div>"
            ],
            "text/plain": [
              "   weekday_0  weekday_1  weekday_2  weekday_3  weekday_4  weekday_5  weekday_6\n",
              "0          0          0          0          0          0          0          1\n",
              "1          0          0          0          0          0          0          1\n",
              "2          0          0          0          0          0          0          1\n",
              "3          0          0          0          0          0          0          1\n",
              "4          0          0          0          0          0          0          1"
            ]
          },
          "metadata": {
            "tags": []
          },
          "execution_count": 160
        }
      ]
    },
    {
      "cell_type": "code",
      "metadata": {
        "colab": {
          "base_uri": "https://localhost:8080/"
        },
        "id": "rBbPejfMUvhG",
        "outputId": "4ef6b5f8-6989-4fa9-b62c-940ac3f092db"
      },
      "source": [
        "df.shape #책에 나온 코드 전부 따라하면 (643593, 131) 이렇게 나옵니다."
      ],
      "execution_count": null,
      "outputs": [
        {
          "output_type": "execute_result",
          "data": {
            "text/plain": [
              "(643593, 59)"
            ]
          },
          "metadata": {
            "tags": []
          },
          "execution_count": 161
        }
      ]
    },
    {
      "cell_type": "markdown",
      "metadata": {
        "id": "Y-0apANp0SL6"
      },
      "source": [
        "### **3.3.4 전체 변수 정리**"
      ]
    },
    {
      "cell_type": "markdown",
      "metadata": {
        "id": "QF8Vy5mBU9DQ"
      },
      "source": [
        "변수가 굉장히 많은데, 책 보시면서 천천히 따라해서 다 구현해 보시면 좋을 것 같습니다."
      ]
    },
    {
      "cell_type": "markdown",
      "metadata": {
        "id": "gBd8s5Gwz2Nr"
      },
      "source": [
        "## **3.4 모델 구축과 검증**"
      ]
    },
    {
      "cell_type": "code",
      "metadata": {
        "colab": {
          "base_uri": "https://localhost:8080/"
        },
        "id": "WK09Ao9iVIvD",
        "outputId": "1943bbac-2e61-47f1-fb0e-24fdc1070f2b"
      },
      "source": [
        "# 문자 형태의 변수 추출\n",
        "object_column = list(df.columns[df.dtypes == 'object'])\n",
        "# 문자형 변수 제거\n",
        "df = df.drop(object_column, axis='columns')\n",
        "\n",
        "# datetime 형태의 변수 추출\n",
        "datetime_column = list(df.columns[df.dtypes == 'datetime64[ns]'])\n",
        "# datetime형 변수 제거\n",
        "df = df.drop(datetime_column, axis='columns')\n",
        "\n",
        "print(object_column + datetime_column)"
      ],
      "execution_count": null,
      "outputs": [
        {
          "output_type": "stream",
          "text": [
            "['bus_route_id', 'station_name', 'route_station', 'date']\n"
          ],
          "name": "stdout"
        }
      ]
    },
    {
      "cell_type": "code",
      "metadata": {
        "id": "vKaWP2G1VNUs"
      },
      "source": [
        "# 학습 데이터\n",
        "X_train = df.query(\"cue=='0'\").drop(['cue', '18~20_ride'], axis='columns')\n",
        "# 테스트 데이터\n",
        "X_test = df.query(\"cue=='1'\").drop(['cue', '18~20_ride'], axis='columns')\n",
        "# 타깃 변수\n",
        "y_train = df.query(\"cue=='0'\")['18~20_ride']"
      ],
      "execution_count": null,
      "outputs": []
    },
    {
      "cell_type": "code",
      "metadata": {
        "colab": {
          "base_uri": "https://localhost:8080/",
          "height": 70
        },
        "id": "bMQn2b8gVP3P",
        "outputId": "2fde5b7a-ae49-4735-bfe0-254ccef2c975"
      },
      "source": [
        "display(X_train.shape)\n",
        "display(X_test.shape)\n",
        "display(y_train.shape)"
      ],
      "execution_count": null,
      "outputs": [
        {
          "output_type": "display_data",
          "data": {
            "text/plain": [
              "(415423, 53)"
            ]
          },
          "metadata": {
            "tags": []
          }
        },
        {
          "output_type": "display_data",
          "data": {
            "text/plain": [
              "(228170, 53)"
            ]
          },
          "metadata": {
            "tags": []
          }
        },
        {
          "output_type": "display_data",
          "data": {
            "text/plain": [
              "(415423,)"
            ]
          },
          "metadata": {
            "tags": []
          }
        }
      ]
    },
    {
      "cell_type": "markdown",
      "metadata": {
        "id": "4GIbrefR0UK-"
      },
      "source": [
        "### **3.4.1 머신러닝 모델**"
      ]
    },
    {
      "cell_type": "markdown",
      "metadata": {
        "id": "go0y4Fq2Waa4"
      },
      "source": [
        "**<머신러닝 모델>**\n",
        "1. **단일 모델**\n",
        "2. **앙상블 모델** : 여러 개의 단일 모델을 적절하게 조합해서 결과를 도출 (✔)"
      ]
    },
    {
      "cell_type": "markdown",
      "metadata": {
        "id": "541MJXoTXaJH"
      },
      "source": [
        "1) **배깅 방식 앙상블 모델**\n",
        "  - **랜덤 포레스트**"
      ]
    },
    {
      "cell_type": "code",
      "metadata": {
        "id": "CcDshNQgXhon"
      },
      "source": [
        "from sklearn.ensemble import RandomForestRegressor #15분 정도 소요\n",
        "\n",
        "rf_model = RandomForestRegressor(random_state=1217)\n",
        "# 모델 학습\n",
        "rf_model.fit(X_train, y_train)\n",
        "# 예측값 생성\n",
        "y_test = rf_model.predict(X_test)"
      ],
      "execution_count": null,
      "outputs": []
    },
    {
      "cell_type": "markdown",
      "metadata": {
        "id": "lgPn715nXs-k"
      },
      "source": [
        "2) **부스팅 방식 앙상블 모델**\n",
        "  - **XGBoost**\n"
      ]
    },
    {
      "cell_type": "code",
      "metadata": {
        "colab": {
          "base_uri": "https://localhost:8080/"
        },
        "id": "ZxCLGMMxX_25",
        "outputId": "680d3ab5-f06c-4f26-b189-f79bd3c27217"
      },
      "source": [
        "from xgboost import XGBRegressor #1분 정도 소요\n",
        "\n",
        "xgb_model = XGBRegressor(random_state=1217)\n",
        "# 모델 학습\n",
        "xgb_model.fit(X_train, y_train)\n",
        "# 예측값 생성\n",
        "y_test = xgb_model.predict(X_test)"
      ],
      "execution_count": null,
      "outputs": [
        {
          "output_type": "stream",
          "text": [
            "[14:25:31] WARNING: /workspace/src/objective/regression_obj.cu:152: reg:linear is now deprecated in favor of reg:squarederror.\n"
          ],
          "name": "stdout"
        }
      ]
    },
    {
      "cell_type": "markdown",
      "metadata": {
        "id": "V1vZg8O6YHnz"
      },
      "source": [
        "- **LightGBM**"
      ]
    },
    {
      "cell_type": "code",
      "metadata": {
        "id": "H-1Y2YtdYBoB"
      },
      "source": [
        "import lightgbm as lgb\n",
        "\n",
        "lgbm = lgb.LGBMRegressor(random_state=1217)\n",
        "# 모델 학습\n",
        "lgbm.fit(X_train, y_train)\n",
        "# 예측값 생성\n",
        "y_test = lgbm.predict(X_test)"
      ],
      "execution_count": null,
      "outputs": []
    },
    {
      "cell_type": "markdown",
      "metadata": {
        "id": "QMv4e5wn0XWX"
      },
      "source": [
        "### **3.4.2 모델 검증**"
      ]
    },
    {
      "cell_type": "code",
      "metadata": {
        "id": "lhK1stAgYiNo"
      },
      "source": [
        "#교차 검증\n",
        "from sklearn.model_selection import cross_val_score\n",
        "\n",
        "rf_model = RandomForestRegressor(random_state=1217)\n",
        "\n",
        "# cv=5인 교차 검증\n",
        "scores = cross_val_score(rf_model, X_train, y_train, cv=5, n_jobs=-1, scoring = 'neg_mean_squared_error')\n",
        "\n",
        "# 성능 확인\n",
        "print('cross_val_score \\n{}'.format(np.sqrt(-scores)))\n",
        "print('cross_val_score.mean \\n{:.3f}'.format(np.sqrt(-scores.mean())))"
      ],
      "execution_count": null,
      "outputs": []
    },
    {
      "cell_type": "markdown",
      "metadata": {
        "id": "29B88hvG0ZG-"
      },
      "source": [
        "### **3.4.3 변수 선택**"
      ]
    },
    {
      "cell_type": "markdown",
      "metadata": {
        "id": "aZok_GjsZbN3"
      },
      "source": [
        "변수의 수가 증가하면 모델 추정에 필요한 샘플 데이터의 개수 증가\n",
        "\n",
        "-> 모델 복잡도 증가, 과적합 가능성 증가\n",
        "\n",
        "-> 유용한 변수만 선택해 변수 개수 줄여야 일반화 성능 높아짐\n",
        "\n",
        "(책 보고 필요한 변수만 골라서 남겨보기)"
      ]
    },
    {
      "cell_type": "markdown",
      "metadata": {
        "id": "7DkkaMta0bc_"
      },
      "source": [
        "### **3.4.4 하이퍼 파라미터 튜닝**"
      ]
    },
    {
      "cell_type": "markdown",
      "metadata": {
        "id": "wo1xduicZ7Hc"
      },
      "source": [
        "변수 선택 후에 성능을 높일 수 있는 효과적인 방법"
      ]
    },
    {
      "cell_type": "markdown",
      "metadata": {
        "id": "Yvxwljc8Z3tw"
      },
      "source": [
        "### **3.4.5 최종 모델 구축**"
      ]
    },
    {
      "cell_type": "markdown",
      "metadata": {
        "id": "iT2iZLj2Z-Za"
      },
      "source": [
        "주 모델 : 랜덤 포레스트\n",
        "\n",
        "- 짧은 기간의 학습 데이터(9월 한 달)로 일반화된 모델을 만들어야 하기 때문\n",
        "- 부스팅 계열의 모델은 학습 데이터의 기간이 짧으면 과적합 가능성 높아짐\n"
      ]
    },
    {
      "cell_type": "code",
      "metadata": {
        "id": "JgLbJMtDdFIY"
      },
      "source": [
        "# 책에 나와있는 모델 중 다섯번째 모델 사용 (5분 정도 소요)\n",
        "model5 = RandomForestRegressor(random_state=1217, max_features=7, min_samples_leaf=4, n_estimators=300, n_jobs=-1)\n",
        "# 모델 학습\n",
        "model5.fit(X_train, y_train)"
      ],
      "execution_count": null,
      "outputs": []
    },
    {
      "cell_type": "code",
      "metadata": {
        "id": "pE22gPu9dNz-"
      },
      "source": [
        "# X_test 데이터에 대한 예측값 생성\n",
        "y_pred5 = model5.predict(X_test)\n",
        "submit['18~20_ride'] = y_pred5\n",
        "\n",
        "# 'submission' 폴더에 csv 파일 저장\n",
        "submit.to_csv('temporary_submit.csv', index = False)"
      ],
      "execution_count": null,
      "outputs": []
    },
    {
      "cell_type": "code",
      "metadata": {
        "colab": {
          "base_uri": "https://localhost:8080/",
          "height": 402
        },
        "id": "Q9mKds0mfrqJ",
        "outputId": "276c4287-d7c5-4c90-8a6b-373508ca5d78"
      },
      "source": [
        "submit"
      ],
      "execution_count": null,
      "outputs": [
        {
          "output_type": "execute_result",
          "data": {
            "text/html": [
              "<div>\n",
              "<style scoped>\n",
              "    .dataframe tbody tr th:only-of-type {\n",
              "        vertical-align: middle;\n",
              "    }\n",
              "\n",
              "    .dataframe tbody tr th {\n",
              "        vertical-align: top;\n",
              "    }\n",
              "\n",
              "    .dataframe thead th {\n",
              "        text-align: right;\n",
              "    }\n",
              "</style>\n",
              "<table border=\"1\" class=\"dataframe\">\n",
              "  <thead>\n",
              "    <tr style=\"text-align: right;\">\n",
              "      <th></th>\n",
              "      <th>id</th>\n",
              "      <th>18~20_ride</th>\n",
              "    </tr>\n",
              "  </thead>\n",
              "  <tbody>\n",
              "    <tr>\n",
              "      <th>0</th>\n",
              "      <td>415423</td>\n",
              "      <td>4.903185</td>\n",
              "    </tr>\n",
              "    <tr>\n",
              "      <th>1</th>\n",
              "      <td>415424</td>\n",
              "      <td>7.503509</td>\n",
              "    </tr>\n",
              "    <tr>\n",
              "      <th>2</th>\n",
              "      <td>415425</td>\n",
              "      <td>2.850573</td>\n",
              "    </tr>\n",
              "    <tr>\n",
              "      <th>3</th>\n",
              "      <td>415426</td>\n",
              "      <td>51.712415</td>\n",
              "    </tr>\n",
              "    <tr>\n",
              "      <th>4</th>\n",
              "      <td>415427</td>\n",
              "      <td>0.738386</td>\n",
              "    </tr>\n",
              "    <tr>\n",
              "      <th>...</th>\n",
              "      <td>...</td>\n",
              "      <td>...</td>\n",
              "    </tr>\n",
              "    <tr>\n",
              "      <th>228165</th>\n",
              "      <td>643588</td>\n",
              "      <td>0.006166</td>\n",
              "    </tr>\n",
              "    <tr>\n",
              "      <th>228166</th>\n",
              "      <td>643589</td>\n",
              "      <td>0.002286</td>\n",
              "    </tr>\n",
              "    <tr>\n",
              "      <th>228167</th>\n",
              "      <td>643590</td>\n",
              "      <td>0.012083</td>\n",
              "    </tr>\n",
              "    <tr>\n",
              "      <th>228168</th>\n",
              "      <td>643591</td>\n",
              "      <td>0.158495</td>\n",
              "    </tr>\n",
              "    <tr>\n",
              "      <th>228169</th>\n",
              "      <td>643592</td>\n",
              "      <td>0.007140</td>\n",
              "    </tr>\n",
              "  </tbody>\n",
              "</table>\n",
              "<p>228170 rows × 2 columns</p>\n",
              "</div>"
            ],
            "text/plain": [
              "            id  18~20_ride\n",
              "0       415423    4.903185\n",
              "1       415424    7.503509\n",
              "2       415425    2.850573\n",
              "3       415426   51.712415\n",
              "4       415427    0.738386\n",
              "...        ...         ...\n",
              "228165  643588    0.006166\n",
              "228166  643589    0.002286\n",
              "228167  643590    0.012083\n",
              "228168  643591    0.158495\n",
              "228169  643592    0.007140\n",
              "\n",
              "[228170 rows x 2 columns]"
            ]
          },
          "metadata": {
            "tags": []
          },
          "execution_count": 173
        }
      ]
    },
    {
      "cell_type": "markdown",
      "metadata": {
        "id": "li_uUUQbz4_7"
      },
      "source": [
        "## **3.5 성능 향상을 위한 방법**"
      ]
    },
    {
      "cell_type": "markdown",
      "metadata": {
        "id": "jkkuZVrl0fQb"
      },
      "source": [
        "### **3.5.1 submission 간 앙상블**"
      ]
    },
    {
      "cell_type": "markdown",
      "metadata": {
        "id": "4m2lnDhSagkY"
      },
      "source": [
        "## **3.6 정리**"
      ]
    },
    {
      "cell_type": "markdown",
      "metadata": {
        "id": "V-SbXMnSalWf"
      },
      "source": [
        "1. 데이터 누수 신경쓰기\n",
        "2. 전처리를 생각보다 매우매우 꼼꼼하게 해야 함\n",
        "3. 과적합 가능성 높은 부스팅 계열 모델 지양하고 여러 단일 모델을 앙상블 하는 것이 안정적 모델을 만드는 길!\n",
        "4. 모든 의사결정을 교차검증 RMSE를 기준으로 하여 과적합 방지\n",
        "5. 경진대회에서 좋은 성과를 내려면 외부 데이터도 적절하게 사용할 줄 알아야 함\n",
        "6. [데이콘 코드공유](https://dacon.io/competitions/official/229255/codeshare/?page=1&dtype=recent&ptype=pub) 다른 코드도 확인해 보기"
      ]
    }
  ]
}